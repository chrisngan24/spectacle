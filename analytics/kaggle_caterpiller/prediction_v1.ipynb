{
 "cells": [
  {
   "cell_type": "code",
   "execution_count": 41,
   "metadata": {
    "collapsed": false
   },
   "outputs": [
    {
     "name": "stdout",
     "output_type": "stream",
     "text": [
      "The autoreload extension is already loaded. To reload it, use:\n",
      "  %reload_ext autoreload\n",
      "The rmagic extension is already loaded. To reload it, use:\n",
      "  %reload_ext rmagic\n"
     ]
    }
   ],
   "source": [
    "# Boilerplate at top of file\n",
    "%load_ext autoreload\n",
    "%load_ext rmagic\n",
    "%autoreload 2\n",
    "import warnings\n",
    "warnings.filterwarnings('ignore')\n",
    "import pandas as pd\n",
    "import numpy as np\n",
    "import datetime\n",
    "import math\n",
    "\n",
    "import matplotlib.pyplot as plt\n",
    "%matplotlib inline\n",
    "plt.style.use('ggplot')\n",
    "from ggplot import *\n",
    "\n",
    "#####\n",
    "# custom functions\n",
    "#####\n",
    "import etl\n",
    "from function import *\n",
    "\n",
    "#####\n",
    "# custom to script\n",
    "####\n",
    "from sklearn import linear_model"
   ]
  },
  {
   "cell_type": "code",
   "execution_count": 54,
   "metadata": {
    "collapsed": false
   },
   "outputs": [
    {
     "name": "stdout",
     "output_type": "stream",
     "text": [
      "(30213, 53)\n"
     ]
    }
   ],
   "source": [
    "df_set = etl.etl('competition_data')\n",
    "print df_set.shape\n",
    "Y_KEY = 'cost'"
   ]
  },
  {
   "cell_type": "code",
   "execution_count": 55,
   "metadata": {
    "collapsed": false
   },
   "outputs": [
    {
     "data": {
      "text/plain": [
       "array(['tube_assembly_id', 'material_id', 'diameter', 'wall', 'length',\n",
       "       'num_bends', 'bend_radius', 'end_a_1x', 'end_a_2x', 'end_x_1x',\n",
       "       'end_x_2x', 'end_a', 'end_x', 'num_boss', 'num_bracket', 'other',\n",
       "       'spec1', 'spec2', 'spec3', 'spec4', 'spec5', 'spec6', 'spec7',\n",
       "       'spec8', 'spec9', 'spec10', 'component_id_1', 'quantity_1',\n",
       "       'component_id_2', 'quantity_2', 'component_id_3', 'quantity_3',\n",
       "       'component_id_4', 'quantity_4', 'component_id_5', 'quantity_5',\n",
       "       'component_id_6', 'quantity_6', 'component_id_7', 'quantity_7',\n",
       "       'component_id_8', 'quantity_8', 'end_a_forming', 'end_x_forming',\n",
       "       'supplier', 'quote_date', 'annual_usage', 'min_order_quantity',\n",
       "       'bracket_pricing', 'quantity', 'cost', 'component_count',\n",
       "       'spec_count'], dtype=object)"
      ]
     },
     "execution_count": 55,
     "metadata": {},
     "output_type": "execute_result"
    }
   ],
   "source": [
    "df_set.columns.values"
   ]
  },
  {
   "cell_type": "code",
   "execution_count": 56,
   "metadata": {
    "collapsed": true
   },
   "outputs": [],
   "source": [
    "from sklearn import cross_validation\n",
    "# Split training and test\n",
    "df_train, df_test = cross_validation.train_test_split(df_set)\n",
    "df_train_x = df_train.drop(Y_KEY, 1)\n",
    "df_train_y = df_train[Y_KEY]\n",
    "# Testing\n",
    "df_test_x = df_test.drop(Y_KEY, 1)\n",
    "df_test_y = df_test[Y_KEY]"
   ]
  },
  {
   "cell_type": "code",
   "execution_count": 77,
   "metadata": {
    "collapsed": false
   },
   "outputs": [
    {
     "data": {
      "text/plain": [
       "end_a\n",
       "EF-001       10\n",
       "EF-002       45\n",
       "EF-003    17624\n",
       "EF-004        2\n",
       "EF-005       10\n",
       "EF-006        9\n",
       "EF-007        8\n",
       "EF-008     5637\n",
       "EF-009      607\n",
       "EF-010        6\n",
       "EF-011        6\n",
       "EF-012      226\n",
       "EF-013       21\n",
       "EF-014        4\n",
       "EF-015      104\n",
       "EF-016       15\n",
       "EF-017      791\n",
       "EF-018     3590\n",
       "EF-019       13\n",
       "EF-020        1\n",
       "EF-021       57\n",
       "EF-022        4\n",
       "EF-023      494\n",
       "EF-025        3\n",
       "NONE        926\n",
       "dtype: int64"
      ]
     },
     "execution_count": 77,
     "metadata": {},
     "output_type": "execute_result"
    }
   ],
   "source": [
    "df_set.groupby(['end_a']).size()"
   ]
  },
  {
   "cell_type": "markdown",
   "metadata": {},
   "source": [
    "# Some Basic Linear Model"
   ]
  },
  {
   "cell_type": "code",
   "execution_count": 60,
   "metadata": {
    "collapsed": false
   },
   "outputs": [
    {
     "name": "stdout",
     "output_type": "stream",
     "text": [
      "nan\n"
     ]
    }
   ],
   "source": [
    "lm = linear_model.LinearRegression()\n",
    "feature_keys = ['wall', 'length', 'diameter','component_count']\n",
    "lm.fit(df_train_x[feature_keys], df_train_y)\n",
    "predict_y = lm.predict(df_test_x[feature_keys])\n",
    "print metric(predict_y, df_test_y)"
   ]
  },
  {
   "cell_type": "markdown",
   "metadata": {},
   "source": [
    "# Some Test Random Forest"
   ]
  },
  {
   "cell_type": "code",
   "execution_count": 39,
   "metadata": {
    "collapsed": false
   },
   "outputs": [
    {
     "name": "stdout",
     "output_type": "stream",
     "text": [
      "0.830599228171\n"
     ]
    }
   ],
   "source": [
    "from sklearn import tree\n",
    "mtree = tree.DecisionTreeRegressor()\n",
    "mtree.fit(df_train_x[feature_keys], df_train_y)\n",
    "predict_y_tree  = mtree.predict(df_test_x[feature_keys])\n",
    "mtree.score\n",
    "print metric(predict_y_tree, df_test_y)"
   ]
  },
  {
   "cell_type": "markdown",
   "metadata": {},
   "source": [
    "# R Analysis"
   ]
  },
  {
   "cell_type": "code",
   "execution_count": 71,
   "metadata": {
    "collapsed": false
   },
   "outputs": [
    {
     "data": {
      "text/plain": [
       "\n",
       "Call:\n",
       "lm(formula = log(cost) ~ spec_count + component_count + spec_count + \n",
       "    quantity + bracket_pricing + wall + bend_radius, data = df_set)\n",
       "\n",
       "Residuals:\n",
       "    Min      1Q  Median      3Q     Max \n",
       "-2.8747 -0.5599 -0.1253  0.5016 10.5530 \n",
       "\n",
       "Coefficients:\n",
       "                     Estimate Std. Error t value Pr(>|t|)    \n",
       "(Intercept)         1.5148971  0.0188628  80.312  < 2e-16 ***\n",
       "spec_count          0.0180708  0.0026484   6.823 9.07e-12 ***\n",
       "component_count     0.0361582  0.0054324   6.656 2.86e-11 ***\n",
       "quantity           -0.0049736  0.0000661 -75.245  < 2e-16 ***\n",
       "bracket_pricingYes  0.0636935  0.0143016   4.454 8.47e-06 ***\n",
       "wall                0.4124119  0.0075470  54.646  < 2e-16 ***\n",
       "bend_radius         0.0001041  0.0000231   4.506 6.64e-06 ***\n",
       "---\n",
       "Signif. codes:  0 ‘***’ 0.001 ‘**’ 0.01 ‘*’ 0.05 ‘.’ 0.1 ‘ ’ 1\n",
       "\n",
       "Residual standard error: 0.802 on 30206 degrees of freedom\n",
       "Multiple R-squared:  0.2471,\tAdjusted R-squared:  0.2469 \n",
       "F-statistic:  1652 on 6 and 30206 DF,  p-value: < 2.2e-16\n",
       "\n"
      ]
     },
     "metadata": {},
     "output_type": "display_data"
    }
   ],
   "source": [
    "%%R -i df_set \n",
    "m1 <- lm(log(cost) ~ spec_count + component_count  + spec_count+ quantity + bracket_pricing  + wall + bend_radius, data = df_set)\n",
    "summary(m1)\n",
    "# qqnorm(m1.rstand)\n",
    "# qqline(m1.rstand)"
   ]
  }
 ],
 "metadata": {
  "kernelspec": {
   "display_name": "Python 2",
   "language": "python",
   "name": "python2"
  },
  "language_info": {
   "codemirror_mode": {
    "name": "ipython",
    "version": 2
   },
   "file_extension": ".py",
   "mimetype": "text/x-python",
   "name": "python",
   "nbconvert_exporter": "python",
   "pygments_lexer": "ipython2",
   "version": "2.7.9"
  }
 },
 "nbformat": 4,
 "nbformat_minor": 0
}
