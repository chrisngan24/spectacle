{
 "cells": [
  {
   "cell_type": "markdown",
   "metadata": {},
   "source": [
    "# Explore the Dataset"
   ]
  },
  {
   "cell_type": "code",
   "execution_count": 1,
   "metadata": {
    "collapsed": false
   },
   "outputs": [
    {
     "name": "stderr",
     "output_type": "stream",
     "text": [
      "/Users/cngan/code/spectacle/env/lib/python2.7/site-packages/IPython/extensions/rmagic.py:693: UserWarning: The rmagic extension in IPython is deprecated in favour of rpy2.ipython. If available, that will be loaded instead.\n",
      "http://rpy.sourceforge.net/\n",
      "  warnings.warn(\"The rmagic extension in IPython is deprecated in favour of \"\n"
     ]
    }
   ],
   "source": [
    "# Boilerplate at top of file\n",
    "%load_ext autoreload\n",
    "%load_ext rmagic\n",
    "%autoreload 2\n",
    "import warnings\n",
    "warnings.filterwarnings('ignore')\n",
    "import pandas as pd\n",
    "import numpy as np\n",
    "import datetime\n",
    "import math\n",
    "\n",
    "import matplotlib.pyplot as plt\n",
    "%matplotlib inline\n",
    "plt.style.use('ggplot')\n",
    "from ggplot import *"
   ]
  },
  {
   "cell_type": "code",
   "execution_count": 22,
   "metadata": {
    "collapsed": false
   },
   "outputs": [
    {
     "name": "stdout",
     "output_type": "stream",
     "text": [
      "(30213, 8)\n"
     ]
    }
   ],
   "source": [
    "df_train = pd.read_csv('competition_data/train_set.csv')\n",
    "print df_train.shape"
   ]
  },
  {
   "cell_type": "code",
   "execution_count": 3,
   "metadata": {
    "collapsed": true
   },
   "outputs": [],
   "source": [
    "df_bracketed = df_train[df_train['bracket_pricing'] == 'Yes']\n",
    "df_non_bracketed = df_train[df_train['bracket_pricing'] == 'No']"
   ]
  },
  {
   "cell_type": "code",
   "execution_count": 4,
   "metadata": {
    "collapsed": false
   },
   "outputs": [
    {
     "data": {
      "text/html": [
       "<div style=\"max-height:1000px;max-width:1500px;overflow:auto;\">\n",
       "<table border=\"1\" class=\"dataframe\">\n",
       "  <thead>\n",
       "    <tr style=\"text-align: right;\">\n",
       "      <th></th>\n",
       "      <th>tube_assembly_id</th>\n",
       "      <th>supplier</th>\n",
       "      <th>quote_date</th>\n",
       "      <th>annual_usage</th>\n",
       "      <th>min_order_quantity</th>\n",
       "      <th>bracket_pricing</th>\n",
       "      <th>quantity</th>\n",
       "      <th>cost</th>\n",
       "    </tr>\n",
       "  </thead>\n",
       "  <tbody>\n",
       "    <tr>\n",
       "      <th>0</th>\n",
       "      <td>TA-00002</td>\n",
       "      <td>S-0066</td>\n",
       "      <td>2013-07-07</td>\n",
       "      <td>0</td>\n",
       "      <td>0</td>\n",
       "      <td>Yes</td>\n",
       "      <td>1</td>\n",
       "      <td>21.905933</td>\n",
       "    </tr>\n",
       "    <tr>\n",
       "      <th>1</th>\n",
       "      <td>TA-00002</td>\n",
       "      <td>S-0066</td>\n",
       "      <td>2013-07-07</td>\n",
       "      <td>0</td>\n",
       "      <td>0</td>\n",
       "      <td>Yes</td>\n",
       "      <td>2</td>\n",
       "      <td>12.341214</td>\n",
       "    </tr>\n",
       "    <tr>\n",
       "      <th>2</th>\n",
       "      <td>TA-00002</td>\n",
       "      <td>S-0066</td>\n",
       "      <td>2013-07-07</td>\n",
       "      <td>0</td>\n",
       "      <td>0</td>\n",
       "      <td>Yes</td>\n",
       "      <td>5</td>\n",
       "      <td>6.601826</td>\n",
       "    </tr>\n",
       "    <tr>\n",
       "      <th>3</th>\n",
       "      <td>TA-00002</td>\n",
       "      <td>S-0066</td>\n",
       "      <td>2013-07-07</td>\n",
       "      <td>0</td>\n",
       "      <td>0</td>\n",
       "      <td>Yes</td>\n",
       "      <td>10</td>\n",
       "      <td>4.687770</td>\n",
       "    </tr>\n",
       "    <tr>\n",
       "      <th>4</th>\n",
       "      <td>TA-00002</td>\n",
       "      <td>S-0066</td>\n",
       "      <td>2013-07-07</td>\n",
       "      <td>0</td>\n",
       "      <td>0</td>\n",
       "      <td>Yes</td>\n",
       "      <td>25</td>\n",
       "      <td>3.541561</td>\n",
       "    </tr>\n",
       "    <tr>\n",
       "      <th>5</th>\n",
       "      <td>TA-00002</td>\n",
       "      <td>S-0066</td>\n",
       "      <td>2013-07-07</td>\n",
       "      <td>0</td>\n",
       "      <td>0</td>\n",
       "      <td>Yes</td>\n",
       "      <td>50</td>\n",
       "      <td>3.224406</td>\n",
       "    </tr>\n",
       "    <tr>\n",
       "      <th>6</th>\n",
       "      <td>TA-00002</td>\n",
       "      <td>S-0066</td>\n",
       "      <td>2013-07-07</td>\n",
       "      <td>0</td>\n",
       "      <td>0</td>\n",
       "      <td>Yes</td>\n",
       "      <td>100</td>\n",
       "      <td>3.082521</td>\n",
       "    </tr>\n",
       "    <tr>\n",
       "      <th>7</th>\n",
       "      <td>TA-00002</td>\n",
       "      <td>S-0066</td>\n",
       "      <td>2013-07-07</td>\n",
       "      <td>0</td>\n",
       "      <td>0</td>\n",
       "      <td>Yes</td>\n",
       "      <td>250</td>\n",
       "      <td>2.999060</td>\n",
       "    </tr>\n",
       "    <tr>\n",
       "      <th>8</th>\n",
       "      <td>TA-00004</td>\n",
       "      <td>S-0066</td>\n",
       "      <td>2013-07-07</td>\n",
       "      <td>0</td>\n",
       "      <td>0</td>\n",
       "      <td>Yes</td>\n",
       "      <td>1</td>\n",
       "      <td>21.972702</td>\n",
       "    </tr>\n",
       "    <tr>\n",
       "      <th>9</th>\n",
       "      <td>TA-00004</td>\n",
       "      <td>S-0066</td>\n",
       "      <td>2013-07-07</td>\n",
       "      <td>0</td>\n",
       "      <td>0</td>\n",
       "      <td>Yes</td>\n",
       "      <td>2</td>\n",
       "      <td>12.407983</td>\n",
       "    </tr>\n",
       "  </tbody>\n",
       "</table>\n",
       "</div>"
      ],
      "text/plain": [
       "  tube_assembly_id supplier  quote_date  annual_usage  min_order_quantity  \\\n",
       "0         TA-00002   S-0066  2013-07-07             0                   0   \n",
       "1         TA-00002   S-0066  2013-07-07             0                   0   \n",
       "2         TA-00002   S-0066  2013-07-07             0                   0   \n",
       "3         TA-00002   S-0066  2013-07-07             0                   0   \n",
       "4         TA-00002   S-0066  2013-07-07             0                   0   \n",
       "5         TA-00002   S-0066  2013-07-07             0                   0   \n",
       "6         TA-00002   S-0066  2013-07-07             0                   0   \n",
       "7         TA-00002   S-0066  2013-07-07             0                   0   \n",
       "8         TA-00004   S-0066  2013-07-07             0                   0   \n",
       "9         TA-00004   S-0066  2013-07-07             0                   0   \n",
       "\n",
       "  bracket_pricing  quantity       cost  \n",
       "0             Yes         1  21.905933  \n",
       "1             Yes         2  12.341214  \n",
       "2             Yes         5   6.601826  \n",
       "3             Yes        10   4.687770  \n",
       "4             Yes        25   3.541561  \n",
       "5             Yes        50   3.224406  \n",
       "6             Yes       100   3.082521  \n",
       "7             Yes       250   2.999060  \n",
       "8             Yes         1  21.972702  \n",
       "9             Yes         2  12.407983  "
      ]
     },
     "execution_count": 4,
     "metadata": {},
     "output_type": "execute_result"
    }
   ],
   "source": [
    "df_train.head(10)"
   ]
  },
  {
   "cell_type": "code",
   "execution_count": 5,
   "metadata": {
    "collapsed": false
   },
   "outputs": [
    {
     "data": {
      "text/html": [
       "<div style=\"max-height:1000px;max-width:1500px;overflow:auto;\">\n",
       "<table border=\"1\" class=\"dataframe\">\n",
       "  <thead>\n",
       "    <tr style=\"text-align: right;\">\n",
       "      <th></th>\n",
       "      <th>annual_usage</th>\n",
       "      <th>min_order_quantity</th>\n",
       "      <th>quantity</th>\n",
       "      <th>cost</th>\n",
       "    </tr>\n",
       "  </thead>\n",
       "  <tbody>\n",
       "    <tr>\n",
       "      <th>count</th>\n",
       "      <td>30213.000000</td>\n",
       "      <td>30213.000000</td>\n",
       "      <td>30213.000000</td>\n",
       "      <td>30213.000000</td>\n",
       "    </tr>\n",
       "    <tr>\n",
       "      <th>mean</th>\n",
       "      <td>120.369377</td>\n",
       "      <td>2.084699</td>\n",
       "      <td>38.389369</td>\n",
       "      <td>13.433317</td>\n",
       "    </tr>\n",
       "    <tr>\n",
       "      <th>std</th>\n",
       "      <td>1590.331872</td>\n",
       "      <td>12.742776</td>\n",
       "      <td>70.761392</td>\n",
       "      <td>28.663200</td>\n",
       "    </tr>\n",
       "    <tr>\n",
       "      <th>min</th>\n",
       "      <td>0.000000</td>\n",
       "      <td>0.000000</td>\n",
       "      <td>1.000000</td>\n",
       "      <td>0.503553</td>\n",
       "    </tr>\n",
       "    <tr>\n",
       "      <th>25%</th>\n",
       "      <td>0.000000</td>\n",
       "      <td>0.000000</td>\n",
       "      <td>2.000000</td>\n",
       "      <td>3.878190</td>\n",
       "    </tr>\n",
       "    <tr>\n",
       "      <th>50%</th>\n",
       "      <td>0.000000</td>\n",
       "      <td>0.000000</td>\n",
       "      <td>10.000000</td>\n",
       "      <td>6.521146</td>\n",
       "    </tr>\n",
       "    <tr>\n",
       "      <th>75%</th>\n",
       "      <td>2.000000</td>\n",
       "      <td>0.000000</td>\n",
       "      <td>40.000000</td>\n",
       "      <td>13.431781</td>\n",
       "    </tr>\n",
       "    <tr>\n",
       "      <th>max</th>\n",
       "      <td>150000.000000</td>\n",
       "      <td>535.000000</td>\n",
       "      <td>2500.000000</td>\n",
       "      <td>1000.000000</td>\n",
       "    </tr>\n",
       "  </tbody>\n",
       "</table>\n",
       "</div>"
      ],
      "text/plain": [
       "        annual_usage  min_order_quantity      quantity          cost\n",
       "count   30213.000000        30213.000000  30213.000000  30213.000000\n",
       "mean      120.369377            2.084699     38.389369     13.433317\n",
       "std      1590.331872           12.742776     70.761392     28.663200\n",
       "min         0.000000            0.000000      1.000000      0.503553\n",
       "25%         0.000000            0.000000      2.000000      3.878190\n",
       "50%         0.000000            0.000000     10.000000      6.521146\n",
       "75%         2.000000            0.000000     40.000000     13.431781\n",
       "max    150000.000000          535.000000   2500.000000   1000.000000"
      ]
     },
     "execution_count": 5,
     "metadata": {},
     "output_type": "execute_result"
    }
   ],
   "source": [
    "df_train.describe()"
   ]
  },
  {
   "cell_type": "code",
   "execution_count": 6,
   "metadata": {
    "collapsed": false
   },
   "outputs": [
    {
     "data": {
      "image/png": "[encoded data removed]"
     },
     "metadata": {},
     "output_type": "display_data"
    }
   ],
   "source": [
    "%%R -i df_train \n",
    "library(ggplot2)\n",
    "ggplot(df_train,aes(x=as.Date(quote_date))) + geom_bar() + ggtitle(\"Data volume per Date\")\n",
    "# most of the data is collected after 2010, can probably ignore "
   ]
  },
  {
   "cell_type": "markdown",
   "metadata": {},
   "source": [
    "# Tube Assembly Data"
   ]
  },
  {
   "cell_type": "code",
   "execution_count": 20,
   "metadata": {
    "collapsed": false
   },
   "outputs": [
    {
     "name": "stdout",
     "output_type": "stream",
     "text": [
      "(21198, 16)\n"
     ]
    }
   ],
   "source": [
    "df_tubes = pd.read_csv('competition_data/tube.csv')\n",
    "print(df_tubes.shape)"
   ]
  },
  {
   "cell_type": "code",
   "execution_count": 8,
   "metadata": {
    "collapsed": false
   },
   "outputs": [
    {
     "data": {
      "text/html": [
       "<div style=\"max-height:1000px;max-width:1500px;overflow:auto;\">\n",
       "<table border=\"1\" class=\"dataframe\">\n",
       "  <thead>\n",
       "    <tr style=\"text-align: right;\">\n",
       "      <th></th>\n",
       "      <th>tube_assembly_id</th>\n",
       "      <th>material_id</th>\n",
       "      <th>diameter</th>\n",
       "      <th>wall</th>\n",
       "      <th>length</th>\n",
       "      <th>num_bends</th>\n",
       "      <th>bend_radius</th>\n",
       "      <th>end_a_1x</th>\n",
       "      <th>end_a_2x</th>\n",
       "      <th>end_x_1x</th>\n",
       "      <th>end_x_2x</th>\n",
       "      <th>end_a</th>\n",
       "      <th>end_x</th>\n",
       "      <th>num_boss</th>\n",
       "      <th>num_bracket</th>\n",
       "      <th>other</th>\n",
       "    </tr>\n",
       "  </thead>\n",
       "  <tbody>\n",
       "    <tr>\n",
       "      <th>0</th>\n",
       "      <td>TA-00001</td>\n",
       "      <td>SP-0035</td>\n",
       "      <td>12.70</td>\n",
       "      <td>1.65</td>\n",
       "      <td>164</td>\n",
       "      <td>5</td>\n",
       "      <td>38.10</td>\n",
       "      <td>N</td>\n",
       "      <td>N</td>\n",
       "      <td>N</td>\n",
       "      <td>N</td>\n",
       "      <td>EF-003</td>\n",
       "      <td>EF-003</td>\n",
       "      <td>0</td>\n",
       "      <td>0</td>\n",
       "      <td>0</td>\n",
       "    </tr>\n",
       "    <tr>\n",
       "      <th>1</th>\n",
       "      <td>TA-00002</td>\n",
       "      <td>SP-0019</td>\n",
       "      <td>6.35</td>\n",
       "      <td>0.71</td>\n",
       "      <td>137</td>\n",
       "      <td>8</td>\n",
       "      <td>19.05</td>\n",
       "      <td>N</td>\n",
       "      <td>N</td>\n",
       "      <td>N</td>\n",
       "      <td>N</td>\n",
       "      <td>EF-008</td>\n",
       "      <td>EF-008</td>\n",
       "      <td>0</td>\n",
       "      <td>0</td>\n",
       "      <td>0</td>\n",
       "    </tr>\n",
       "    <tr>\n",
       "      <th>2</th>\n",
       "      <td>TA-00003</td>\n",
       "      <td>SP-0019</td>\n",
       "      <td>6.35</td>\n",
       "      <td>0.71</td>\n",
       "      <td>127</td>\n",
       "      <td>7</td>\n",
       "      <td>19.05</td>\n",
       "      <td>N</td>\n",
       "      <td>N</td>\n",
       "      <td>N</td>\n",
       "      <td>N</td>\n",
       "      <td>EF-008</td>\n",
       "      <td>EF-008</td>\n",
       "      <td>0</td>\n",
       "      <td>0</td>\n",
       "      <td>0</td>\n",
       "    </tr>\n",
       "    <tr>\n",
       "      <th>3</th>\n",
       "      <td>TA-00004</td>\n",
       "      <td>SP-0019</td>\n",
       "      <td>6.35</td>\n",
       "      <td>0.71</td>\n",
       "      <td>137</td>\n",
       "      <td>9</td>\n",
       "      <td>19.05</td>\n",
       "      <td>N</td>\n",
       "      <td>N</td>\n",
       "      <td>N</td>\n",
       "      <td>N</td>\n",
       "      <td>EF-008</td>\n",
       "      <td>EF-008</td>\n",
       "      <td>0</td>\n",
       "      <td>0</td>\n",
       "      <td>0</td>\n",
       "    </tr>\n",
       "    <tr>\n",
       "      <th>4</th>\n",
       "      <td>TA-00005</td>\n",
       "      <td>SP-0029</td>\n",
       "      <td>19.05</td>\n",
       "      <td>1.24</td>\n",
       "      <td>109</td>\n",
       "      <td>4</td>\n",
       "      <td>50.80</td>\n",
       "      <td>N</td>\n",
       "      <td>N</td>\n",
       "      <td>N</td>\n",
       "      <td>N</td>\n",
       "      <td>EF-003</td>\n",
       "      <td>EF-003</td>\n",
       "      <td>0</td>\n",
       "      <td>0</td>\n",
       "      <td>0</td>\n",
       "    </tr>\n",
       "  </tbody>\n",
       "</table>\n",
       "</div>"
      ],
      "text/plain": [
       "  tube_assembly_id material_id  diameter  wall  length  num_bends  \\\n",
       "0         TA-00001     SP-0035     12.70  1.65     164          5   \n",
       "1         TA-00002     SP-0019      6.35  0.71     137          8   \n",
       "2         TA-00003     SP-0019      6.35  0.71     127          7   \n",
       "3         TA-00004     SP-0019      6.35  0.71     137          9   \n",
       "4         TA-00005     SP-0029     19.05  1.24     109          4   \n",
       "\n",
       "   bend_radius end_a_1x end_a_2x end_x_1x end_x_2x   end_a   end_x  num_boss  \\\n",
       "0        38.10        N        N        N        N  EF-003  EF-003         0   \n",
       "1        19.05        N        N        N        N  EF-008  EF-008         0   \n",
       "2        19.05        N        N        N        N  EF-008  EF-008         0   \n",
       "3        19.05        N        N        N        N  EF-008  EF-008         0   \n",
       "4        50.80        N        N        N        N  EF-003  EF-003         0   \n",
       "\n",
       "   num_bracket  other  \n",
       "0            0      0  \n",
       "1            0      0  \n",
       "2            0      0  \n",
       "3            0      0  \n",
       "4            0      0  "
      ]
     },
     "execution_count": 8,
     "metadata": {},
     "output_type": "execute_result"
    }
   ],
   "source": [
    "df_tubes.head()"
   ]
  },
  {
   "cell_type": "code",
   "execution_count": 9,
   "metadata": {
    "collapsed": false
   },
   "outputs": [
    {
     "data": {
      "text/plain": [
       "3207"
      ]
     },
     "execution_count": 9,
     "metadata": {},
     "output_type": "execute_result"
    }
   ],
   "source": [
    "sum(df_tubes['end_a'] != df_tubes['end_x'])"
   ]
  },
  {
   "cell_type": "code",
   "execution_count": 10,
   "metadata": {
    "collapsed": false
   },
   "outputs": [
    {
     "data": {
      "text/plain": [
       "end_x\n",
       "9999          6\n",
       "EF-001      123\n",
       "EF-002      141\n",
       "EF-003    10863\n",
       "EF-004        8\n",
       "EF-005       17\n",
       "EF-006       25\n",
       "EF-007       12\n",
       "EF-008     1947\n",
       "EF-009      829\n",
       "EF-010       67\n",
       "EF-011        6\n",
       "EF-012      316\n",
       "EF-013       11\n",
       "EF-014       12\n",
       "EF-015      179\n",
       "EF-016        8\n",
       "EF-017     2022\n",
       "EF-018     2287\n",
       "EF-019       37\n",
       "EF-021      494\n",
       "EF-022        6\n",
       "EF-023      402\n",
       "EF-024        1\n",
       "EF-025        3\n",
       "EF-026        1\n",
       "NONE       1375\n",
       "dtype: int64"
      ]
     },
     "execution_count": 10,
     "metadata": {},
     "output_type": "execute_result"
    }
   ],
   "source": [
    "df_tubes.groupby(['end_x']).size()"
   ]
  },
  {
   "cell_type": "code",
   "execution_count": 11,
   "metadata": {
    "collapsed": false
   },
   "outputs": [
    {
     "data": {
      "text/plain": [
       "material_id\n",
       "SP-0008      102\n",
       "SP-0019      926\n",
       "SP-0028     1644\n",
       "SP-0029    11488\n",
       "SP-0030       24\n",
       "SP-0031        1\n",
       "SP-0032        9\n",
       "SP-0033      155\n",
       "SP-0034       13\n",
       "SP-0035     3676\n",
       "SP-0036       12\n",
       "SP-0037      632\n",
       "SP-0038      207\n",
       "SP-0039      970\n",
       "SP-0041       76\n",
       "SP-0044       24\n",
       "SP-0045        1\n",
       "SP-0046      892\n",
       "SP-0048       67\n",
       "dtype: int64"
      ]
     },
     "execution_count": 11,
     "metadata": {},
     "output_type": "execute_result"
    }
   ],
   "source": [
    "df_tubes.groupby('material_id').size()"
   ]
  },
  {
   "cell_type": "code",
   "execution_count": 12,
   "metadata": {
    "collapsed": false
   },
   "outputs": [
    {
     "data": {
      "text/plain": [
       "(array([  2.54800000e+03,   8.34600000e+03,   5.92700000e+03,\n",
       "          1.80900000e+03,   1.80500000e+03,   6.19000000e+02,\n",
       "          6.90000000e+01,   5.50000000e+01,   1.50000000e+01,\n",
       "          5.00000000e+00]),\n",
       " array([  0. ,   1.7,   3.4,   5.1,   6.8,   8.5,  10.2,  11.9,  13.6,\n",
       "         15.3,  17. ]),\n",
       " <a list of 10 Patch objects>)"
      ]
     },
     "execution_count": 12,
     "metadata": {},
     "output_type": "execute_result"
    },
    {
     "data": {
      "image/png": "[encoded data removed]",
      "text/plain": [
       "<matplotlib.figure.Figure at 0x1196f7390>"
      ]
     },
     "metadata": {},
     "output_type": "display_data"
    }
   ],
   "source": [
    "plt.figure(1)\n",
    "plt.subplot(411)\n",
    "plt.hist(df_tubes['diameter'])\n",
    "plt.subplot(412)\n",
    "plt.hist(df_tubes['wall'])\n",
    "plt.subplot(413)\n",
    "plt.hist(df_tubes['length'])\n",
    "plt.subplot(414)\n",
    "plt.hist(df_tubes['num_bends'])"
   ]
  },
  {
   "cell_type": "markdown",
   "metadata": {},
   "source": [
    "# Bill of Materials"
   ]
  },
  {
   "cell_type": "code",
   "execution_count": 13,
   "metadata": {
    "collapsed": false
   },
   "outputs": [
    {
     "name": "stdout",
     "output_type": "stream",
     "text": [
      "21198\n"
     ]
    }
   ],
   "source": [
    "df_bill = pd.read_csv('competition_data/bill_of_materials.csv')\n",
    "print len(df_bill)"
   ]
  },
  {
   "cell_type": "code",
   "execution_count": 14,
   "metadata": {
    "collapsed": false
   },
   "outputs": [
    {
     "data": {
      "text/html": [
       "<div style=\"max-height:1000px;max-width:1500px;overflow:auto;\">\n",
       "<table border=\"1\" class=\"dataframe\">\n",
       "  <thead>\n",
       "    <tr style=\"text-align: right;\">\n",
       "      <th></th>\n",
       "      <th>tube_assembly_id</th>\n",
       "      <th>component_id_1</th>\n",
       "      <th>quantity_1</th>\n",
       "      <th>component_id_2</th>\n",
       "      <th>quantity_2</th>\n",
       "      <th>component_id_3</th>\n",
       "      <th>quantity_3</th>\n",
       "      <th>component_id_4</th>\n",
       "      <th>quantity_4</th>\n",
       "      <th>component_id_5</th>\n",
       "      <th>quantity_5</th>\n",
       "      <th>component_id_6</th>\n",
       "      <th>quantity_6</th>\n",
       "      <th>component_id_7</th>\n",
       "      <th>quantity_7</th>\n",
       "      <th>component_id_8</th>\n",
       "      <th>quantity_8</th>\n",
       "    </tr>\n",
       "  </thead>\n",
       "  <tbody>\n",
       "    <tr>\n",
       "      <th>0</th>\n",
       "      <td>TA-00001</td>\n",
       "      <td>C-1622</td>\n",
       "      <td>2</td>\n",
       "      <td>C-1629</td>\n",
       "      <td>2</td>\n",
       "      <td>NaN</td>\n",
       "      <td>NaN</td>\n",
       "      <td>NaN</td>\n",
       "      <td>NaN</td>\n",
       "      <td>NaN</td>\n",
       "      <td>NaN</td>\n",
       "      <td>NaN</td>\n",
       "      <td>NaN</td>\n",
       "      <td>NaN</td>\n",
       "      <td>NaN</td>\n",
       "      <td>NaN</td>\n",
       "      <td>NaN</td>\n",
       "    </tr>\n",
       "    <tr>\n",
       "      <th>1</th>\n",
       "      <td>TA-00002</td>\n",
       "      <td>C-1312</td>\n",
       "      <td>2</td>\n",
       "      <td>NaN</td>\n",
       "      <td>NaN</td>\n",
       "      <td>NaN</td>\n",
       "      <td>NaN</td>\n",
       "      <td>NaN</td>\n",
       "      <td>NaN</td>\n",
       "      <td>NaN</td>\n",
       "      <td>NaN</td>\n",
       "      <td>NaN</td>\n",
       "      <td>NaN</td>\n",
       "      <td>NaN</td>\n",
       "      <td>NaN</td>\n",
       "      <td>NaN</td>\n",
       "      <td>NaN</td>\n",
       "    </tr>\n",
       "    <tr>\n",
       "      <th>2</th>\n",
       "      <td>TA-00003</td>\n",
       "      <td>C-1312</td>\n",
       "      <td>2</td>\n",
       "      <td>NaN</td>\n",
       "      <td>NaN</td>\n",
       "      <td>NaN</td>\n",
       "      <td>NaN</td>\n",
       "      <td>NaN</td>\n",
       "      <td>NaN</td>\n",
       "      <td>NaN</td>\n",
       "      <td>NaN</td>\n",
       "      <td>NaN</td>\n",
       "      <td>NaN</td>\n",
       "      <td>NaN</td>\n",
       "      <td>NaN</td>\n",
       "      <td>NaN</td>\n",
       "      <td>NaN</td>\n",
       "    </tr>\n",
       "    <tr>\n",
       "      <th>3</th>\n",
       "      <td>TA-00004</td>\n",
       "      <td>C-1312</td>\n",
       "      <td>2</td>\n",
       "      <td>NaN</td>\n",
       "      <td>NaN</td>\n",
       "      <td>NaN</td>\n",
       "      <td>NaN</td>\n",
       "      <td>NaN</td>\n",
       "      <td>NaN</td>\n",
       "      <td>NaN</td>\n",
       "      <td>NaN</td>\n",
       "      <td>NaN</td>\n",
       "      <td>NaN</td>\n",
       "      <td>NaN</td>\n",
       "      <td>NaN</td>\n",
       "      <td>NaN</td>\n",
       "      <td>NaN</td>\n",
       "    </tr>\n",
       "    <tr>\n",
       "      <th>4</th>\n",
       "      <td>TA-00005</td>\n",
       "      <td>C-1624</td>\n",
       "      <td>1</td>\n",
       "      <td>C-1631</td>\n",
       "      <td>1</td>\n",
       "      <td>C-1641</td>\n",
       "      <td>1</td>\n",
       "      <td>NaN</td>\n",
       "      <td>NaN</td>\n",
       "      <td>NaN</td>\n",
       "      <td>NaN</td>\n",
       "      <td>NaN</td>\n",
       "      <td>NaN</td>\n",
       "      <td>NaN</td>\n",
       "      <td>NaN</td>\n",
       "      <td>NaN</td>\n",
       "      <td>NaN</td>\n",
       "    </tr>\n",
       "  </tbody>\n",
       "</table>\n",
       "</div>"
      ],
      "text/plain": [
       "  tube_assembly_id component_id_1  quantity_1 component_id_2  quantity_2  \\\n",
       "0         TA-00001         C-1622           2         C-1629           2   \n",
       "1         TA-00002         C-1312           2            NaN         NaN   \n",
       "2         TA-00003         C-1312           2            NaN         NaN   \n",
       "3         TA-00004         C-1312           2            NaN         NaN   \n",
       "4         TA-00005         C-1624           1         C-1631           1   \n",
       "\n",
       "  component_id_3  quantity_3 component_id_4  quantity_4 component_id_5  \\\n",
       "0            NaN         NaN            NaN         NaN            NaN   \n",
       "1            NaN         NaN            NaN         NaN            NaN   \n",
       "2            NaN         NaN            NaN         NaN            NaN   \n",
       "3            NaN         NaN            NaN         NaN            NaN   \n",
       "4         C-1641           1            NaN         NaN            NaN   \n",
       "\n",
       "   quantity_5 component_id_6  quantity_6 component_id_7  quantity_7  \\\n",
       "0         NaN            NaN         NaN            NaN         NaN   \n",
       "1         NaN            NaN         NaN            NaN         NaN   \n",
       "2         NaN            NaN         NaN            NaN         NaN   \n",
       "3         NaN            NaN         NaN            NaN         NaN   \n",
       "4         NaN            NaN         NaN            NaN         NaN   \n",
       "\n",
       "  component_id_8  quantity_8  \n",
       "0            NaN         NaN  \n",
       "1            NaN         NaN  \n",
       "2            NaN         NaN  \n",
       "3            NaN         NaN  \n",
       "4            NaN         NaN  "
      ]
     },
     "execution_count": 14,
     "metadata": {},
     "output_type": "execute_result"
    }
   ],
   "source": [
    "df_bill.head()"
   ]
  },
  {
   "cell_type": "markdown",
   "metadata": {},
   "source": [
    "# Specs"
   ]
  },
  {
   "cell_type": "code",
   "execution_count": 15,
   "metadata": {
    "collapsed": false
   },
   "outputs": [
    {
     "name": "stdout",
     "output_type": "stream",
     "text": [
      "21198\n"
     ]
    }
   ],
   "source": [
    "df_specs = pd.read_csv('competition_data/specs.csv')\n",
    "print len(df_specs)"
   ]
  },
  {
   "cell_type": "code",
   "execution_count": 16,
   "metadata": {
    "collapsed": false
   },
   "outputs": [
    {
     "data": {
      "text/html": [
       "<div style=\"max-height:1000px;max-width:1500px;overflow:auto;\">\n",
       "<table border=\"1\" class=\"dataframe\">\n",
       "  <thead>\n",
       "    <tr style=\"text-align: right;\">\n",
       "      <th></th>\n",
       "      <th>tube_assembly_id</th>\n",
       "      <th>spec1</th>\n",
       "      <th>spec2</th>\n",
       "      <th>spec3</th>\n",
       "      <th>spec4</th>\n",
       "      <th>spec5</th>\n",
       "      <th>spec6</th>\n",
       "      <th>spec7</th>\n",
       "      <th>spec8</th>\n",
       "      <th>spec9</th>\n",
       "      <th>spec10</th>\n",
       "    </tr>\n",
       "  </thead>\n",
       "  <tbody>\n",
       "    <tr>\n",
       "      <th>21193</th>\n",
       "      <td>TA-21195</td>\n",
       "      <td>NaN</td>\n",
       "      <td>NaN</td>\n",
       "      <td>NaN</td>\n",
       "      <td>NaN</td>\n",
       "      <td>NaN</td>\n",
       "      <td>NaN</td>\n",
       "      <td>NaN</td>\n",
       "      <td>NaN</td>\n",
       "      <td>NaN</td>\n",
       "      <td>NaN</td>\n",
       "    </tr>\n",
       "    <tr>\n",
       "      <th>21194</th>\n",
       "      <td>TA-21196</td>\n",
       "      <td>SP-0007</td>\n",
       "      <td>SP-0080</td>\n",
       "      <td>NaN</td>\n",
       "      <td>NaN</td>\n",
       "      <td>NaN</td>\n",
       "      <td>NaN</td>\n",
       "      <td>NaN</td>\n",
       "      <td>NaN</td>\n",
       "      <td>NaN</td>\n",
       "      <td>NaN</td>\n",
       "    </tr>\n",
       "    <tr>\n",
       "      <th>21195</th>\n",
       "      <td>TA-21197</td>\n",
       "      <td>SP-0007</td>\n",
       "      <td>SP-0080</td>\n",
       "      <td>NaN</td>\n",
       "      <td>NaN</td>\n",
       "      <td>NaN</td>\n",
       "      <td>NaN</td>\n",
       "      <td>NaN</td>\n",
       "      <td>NaN</td>\n",
       "      <td>NaN</td>\n",
       "      <td>NaN</td>\n",
       "    </tr>\n",
       "    <tr>\n",
       "      <th>21196</th>\n",
       "      <td>TA-21198</td>\n",
       "      <td>SP-0058</td>\n",
       "      <td>SP-0080</td>\n",
       "      <td>NaN</td>\n",
       "      <td>NaN</td>\n",
       "      <td>NaN</td>\n",
       "      <td>NaN</td>\n",
       "      <td>NaN</td>\n",
       "      <td>NaN</td>\n",
       "      <td>NaN</td>\n",
       "      <td>NaN</td>\n",
       "    </tr>\n",
       "    <tr>\n",
       "      <th>21197</th>\n",
       "      <td>TA-21199</td>\n",
       "      <td>SP-0058</td>\n",
       "      <td>SP-0080</td>\n",
       "      <td>NaN</td>\n",
       "      <td>NaN</td>\n",
       "      <td>NaN</td>\n",
       "      <td>NaN</td>\n",
       "      <td>NaN</td>\n",
       "      <td>NaN</td>\n",
       "      <td>NaN</td>\n",
       "      <td>NaN</td>\n",
       "    </tr>\n",
       "  </tbody>\n",
       "</table>\n",
       "</div>"
      ],
      "text/plain": [
       "      tube_assembly_id    spec1    spec2 spec3 spec4 spec5 spec6 spec7 spec8  \\\n",
       "21193         TA-21195      NaN      NaN   NaN   NaN   NaN   NaN   NaN   NaN   \n",
       "21194         TA-21196  SP-0007  SP-0080   NaN   NaN   NaN   NaN   NaN   NaN   \n",
       "21195         TA-21197  SP-0007  SP-0080   NaN   NaN   NaN   NaN   NaN   NaN   \n",
       "21196         TA-21198  SP-0058  SP-0080   NaN   NaN   NaN   NaN   NaN   NaN   \n",
       "21197         TA-21199  SP-0058  SP-0080   NaN   NaN   NaN   NaN   NaN   NaN   \n",
       "\n",
       "      spec9 spec10  \n",
       "21193   NaN    NaN  \n",
       "21194   NaN    NaN  \n",
       "21195   NaN    NaN  \n",
       "21196   NaN    NaN  \n",
       "21197   NaN    NaN  "
      ]
     },
     "execution_count": 16,
     "metadata": {},
     "output_type": "execute_result"
    }
   ],
   "source": [
    "df_specs.tail()"
   ]
  },
  {
   "cell_type": "markdown",
   "metadata": {},
   "source": [
    "# Joining the Data"
   ]
  },
  {
   "cell_type": "code",
   "execution_count": 17,
   "metadata": {
    "collapsed": false
   },
   "outputs": [],
   "source": [
    "df = pd.merge(df_bill, df_tubes, on='tube_assembly_id')\n",
    "df = pd.merge(df, df_specs, on='tube_assembly_id')\n",
    "df_raw = df"
   ]
  },
  {
   "cell_type": "code",
   "execution_count": 18,
   "metadata": {
    "collapsed": false
   },
   "outputs": [
    {
     "name": "stdout",
     "output_type": "stream",
     "text": [
      "30213\n"
     ]
    }
   ],
   "source": [
    "df_train_merged = pd.merge(df_train, df_raw, on='tube_assembly_id')\n",
    "print len(df_train_merged)"
   ]
  },
  {
   "cell_type": "code",
   "execution_count": 19,
   "metadata": {
    "collapsed": false
   },
   "outputs": [
    {
     "name": "stdout",
     "output_type": "stream",
     "text": [
      "\n",
      "Error in summary(m) : object 'm' not found\n"
     ]
    }
   ],
   "source": [
    "%%R -i df_train_merged\n",
    "m1 <- lm(cost ~  material_id + (1 + quantity + num_bends  + length + diameter + wall), data = df_train_merged)\n",
    "m2 <- lm(cost ~  (1 + quantity + num_bends  + length + diameter + wall), data = df_train_merged)\n",
    "summary(m)\n",
    "anova(m1,m2)"
   ]
  }
 ],
 "metadata": {
  "kernelspec": {
   "display_name": "Python 2",
   "language": "python",
   "name": "python2"
  },
  "language_info": {
   "codemirror_mode": {
    "name": "ipython",
    "version": 2
   },
   "file_extension": ".py",
   "mimetype": "text/x-python",
   "name": "python",
   "nbconvert_exporter": "python",
   "pygments_lexer": "ipython2",
   "version": "2.7.9"
  }
 },
 "nbformat": 4,
 "nbformat_minor": 0
}
