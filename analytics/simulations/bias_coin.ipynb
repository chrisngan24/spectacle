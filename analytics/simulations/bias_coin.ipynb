{
 "cells": [
  {
   "cell_type": "code",
   "execution_count": 2,
   "metadata": {
    "collapsed": true
   },
   "outputs": [],
   "source": [
    "import pandas as pd\n",
    "import scipy\n",
    "import numpy as np\n",
    "import matplotlib.pyplot as plt\n",
    "import seaborn as sn\n",
    "%matplotlib inline"
   ]
  },
  {
   "cell_type": "code",
   "execution_count": 3,
   "metadata": {
    "collapsed": true
   },
   "outputs": [],
   "source": [
    "def flip_bias_coin(n, p_heads=0.5):\n",
    "    \"\"\"\n",
    "    Returns a vector of bools\n",
    "    - True is a heads, false is a tails\n",
    "    \"\"\"\n",
    "    return np.random.uniform(size=n) <= p_heads"
   ]
  },
  {
   "cell_type": "markdown",
   "metadata": {},
   "source": [
    "Lets see an example of the bias coin at work"
   ]
  },
  {
   "cell_type": "code",
   "execution_count": 4,
   "metadata": {
    "collapsed": false
   },
   "outputs": [
    {
     "data": {
      "text/plain": [
       "(array([ 18.,   0.,   0.,   0.,   0.,   0.,   0.,   0.,   0.,  82.]),\n",
       " array([ 0. ,  0.1,  0.2,  0.3,  0.4,  0.5,  0.6,  0.7,  0.8,  0.9,  1. ]),\n",
       " <a list of 10 Patch objects>)"
      ]
     },
     "execution_count": 4,
     "metadata": {},
     "output_type": "execute_result"
    },
    {
     "data": {
      "image/png": "[encoded data removed]",
      "text/plain": [
       "<matplotlib.figure.Figure at 0x10e0c21d0>"
      ]
     },
     "metadata": {},
     "output_type": "display_data"
    }
   ],
   "source": [
    "plt.hist(flip_bias_coin(100, p_heads=0.8))\n"
   ]
  },
  {
   "cell_type": "markdown",
   "metadata": {},
   "source": [
    "This set of simulation will look at inferring if the coin is bias (of course we control how bias the coin is)."
   ]
  },
  {
   "cell_type": "markdown",
   "metadata": {},
   "source": [
    "# Method 1: Chi Square Distribution"
   ]
  },
  {
   "cell_type": "markdown",
   "metadata": {},
   "source": [
    "For a set of _n_ coin flips, we set our null hypothesis to be that the number of heads is approximately equal to the number of tails."
   ]
  },
  {
   "cell_type": "markdown",
   "metadata": {},
   "source": [
    "$$ \\text{Null Hypothesis}: p_{head} = p_{tail} $$\n",
    "\n",
    "$$ \\text{Alt Hypothesis}: p_{head} \\neq p_{tail} $$"
   ]
  },
  {
   "cell_type": "markdown",
   "metadata": {},
   "source": [
    "For the proportion of number of heads, the sample statistic is normally distributed.\n",
    "\n",
    "$$ X \\sim N(np, np(1-p))$$\n",
    "\n",
    "Which can be rewritten to be a standard normal distribution, $Z \\sim N(0,1)$\n",
    "\n",
    "$$ X = \\sqrt{np(1-p)} Z + np $$\n",
    "$$ Z = \\frac{X  - np}{\\sqrt{np(1-p)} } $$"
   ]
  },
  {
   "cell_type": "markdown",
   "metadata": {},
   "source": [
    "Given _n_ total trials. \n",
    "\n",
    "The proportion of heads is given by:\n",
    "$$ Z_{head} = \\frac{X_{head} - np_{head}}{\\sqrt{np_{head}(1-p_{head})} }$$\n",
    "\n",
    "Similarily, the proportion of tails is:\n",
    "\n",
    "$$ Z_{tail} = \\frac{X_{tail} - np_{tail}}{\\sqrt{np_{tail}(1-p_{tail})} }$$\n",
    "\n",
    "The chi-squared distribution is then given as\n",
    "\n",
    "$$ \\chi^2_{1} \\sim Z_{tail}^2  + Z_{head}^2 $$\n",
    "\n",
    "To compute the chi distribution:\n",
    "\n",
    "$$ \\chi^2 = \\frac{(O_{head} - E_{head})^2}{E_{head}} + \\frac{(O_{tail} - E_{tail})^2}{E_{tail}}$$\n",
    "\n",
    "From the computed chi2 stat, we can then compute the probability the observation could have occured given our null hypothesis. If the probability is less than a significant value, we say the observations is so rare we can reject the null hypothesis.\n",
    "\n",
    "Lets simulate this!"
   ]
  },
  {
   "cell_type": "code",
   "execution_count": 5,
   "metadata": {
    "collapsed": false
   },
   "outputs": [],
   "source": [
    "from scipy.stats import chi2\n",
    "from scipy.stats import chisquare\n",
    "n = 95\n",
    "def compute_sig_test(n, p_heads=0.5, verbose=False):\n",
    "    trials = flip_bias_coin(n, p_heads=p_heads)\n",
    "    obs_heads = sum(trials == True)\n",
    "    obs_tails = sum(trials == False)\n",
    "    exp_heads = n / 2\n",
    "    exp_tails = n / 2\n",
    "    T = (obs_heads - exp_heads)**2 / exp_heads + (obs_tails - exp_tails)**2 / exp_tails\n",
    "    df = 1\n",
    "    p_val = 1-chi2.cdf(T, df, loc=0, scale=1)\n",
    "    if verbose:\n",
    "        print T, p_val\n",
    "    # same as computing it above but using the packaged software\n",
    "    return chisquare(f_obs=[obs_heads, obs_tails], f_exp=[exp_heads, exp_tails])\n"
   ]
  },
  {
   "cell_type": "code",
   "execution_count": 6,
   "metadata": {
    "collapsed": false
   },
   "outputs": [
    {
     "name": "stdout",
     "output_type": "stream",
     "text": [
      "(chi_stat, pvalue)= (0.71999999999999997, 0.39614390915207409)\n"
     ]
    }
   ],
   "source": [
    "bias = 0.5\n",
    "n=50\n",
    "print '(chi_stat, pvalue)=', compute_sig_test(n, p_heads=bias)"
   ]
  },
  {
   "cell_type": "markdown",
   "metadata": {},
   "source": [
    "We can see that for a fair coin, the p-value is large enough we do not reject the null. "
   ]
  },
  {
   "cell_type": "code",
   "execution_count": 7,
   "metadata": {
    "collapsed": false
   },
   "outputs": [
    {
     "name": "stdout",
     "output_type": "stream",
     "text": [
      "(chi_stat, pvalue)= (13.52, 0.00023603441652934905)\n"
     ]
    }
   ],
   "source": [
    "bias = 0.8\n",
    "n=50\n",
    "print '(chi_stat, pvalue)=', compute_sig_test(n, p_heads=bias)"
   ]
  },
  {
   "cell_type": "markdown",
   "metadata": {},
   "source": [
    "We can see that for a bias coin, the p-value is small enough we do reject the null. \n",
    "\n",
    "We can also see that the number of trials effects the outcome. Below shows what happens when you sweep the number of trials for a bias coin"
   ]
  },
  {
   "cell_type": "code",
   "execution_count": 8,
   "metadata": {
    "collapsed": false
   },
   "outputs": [],
   "source": [
    "pvals = []\n",
    "n_trials_max=200\n",
    "for n in range(2, n_trials_max):\n",
    "    chis,p_val = compute_sig_test(n, p_heads=0.65)\n",
    "    pvals.append(p_val)\n"
   ]
  },
  {
   "cell_type": "code",
   "execution_count": 9,
   "metadata": {
    "collapsed": false
   },
   "outputs": [
    {
     "data": {
      "text/plain": [
       "<matplotlib.text.Text at 0x112bf1090>"
      ]
     },
     "execution_count": 9,
     "metadata": {},
     "output_type": "execute_result"
    },
    {
     "name": "stderr",
     "output_type": "stream",
     "text": [
      "/usr/local/lib/python2.7/site-packages/matplotlib/collections.py:590: FutureWarning: elementwise comparison failed; returning scalar instead, but in the future will perform elementwise comparison\n",
      "  if self._edgecolors == str('face'):\n"
     ]
    },
    {
     "data": {
      "image/png": "[encoded data removed]",
      "text/plain": [
       "<matplotlib.figure.Figure at 0x112ae7650>"
      ]
     },
     "metadata": {},
     "output_type": "display_data"
    }
   ],
   "source": [
    "plt.plot(pvals)\n",
    "plt.hlines(0.05, 0, n_trials_max)\n",
    "plt.xlabel(\"Number of Trials\")\n",
    "plt.ylabel(\"P-Value from $\\chi^2$ Test\")"
   ]
  },
  {
   "cell_type": "markdown",
   "metadata": {},
   "source": [
    "If there are not enough trials, the p-value is large enough that we cannot reject the null hypothesis even for a bias coin. However, with more trials, wee become more confident in rejecting the null hypothesis."
   ]
  },
  {
   "cell_type": "markdown",
   "metadata": {},
   "source": [
    "# Method 2: Maximum Likelihood Estimate"
   ]
  },
  {
   "cell_type": "markdown",
   "metadata": {},
   "source": [
    "We can also model a single coin flip with the Bernoulli distribution. Assume each trial is independent of each other and the outcomes are either a success/heads ($X=1$) or a fail/tails ($X=0$).\n",
    "\n",
    "Let the random variable $X$ represent the outcome of a single coin. Model the probability distribution of $P(X=x) = p^x(1-p)^{1-x}, x=[0,1]$ or $X ~ Be(p)$"
   ]
  },
  {
   "cell_type": "markdown",
   "metadata": {},
   "source": [
    "\n",
    "For n independent Bernoulli trials, we say $X = (X_1, X_2,...X_n)$. The probability of $P(X)$ is simply the joint distribution of all the independent events.\n",
    "$$ P(X)= P(X_1)*P(X_2)*...*P(X_n) = \\prod^{n} p^x(1-p)^{1-x}$$\n",
    "Say $P(X) = f(x|p)$\n",
    "\n",
    "We want to then identify what value of $p$ will maximize the probability of the observed trials, hence the maximum likelihood estimate.\n",
    "\n",
    "$$ \\arg\\max_p = f(x|p)  $$\n",
    "\n",
    "This can be done by taking the derivative of the log-likelihood of $f$.\n",
    "\n",
    "$$ l(x|p) = log(f(x|p)) = \\sum^{n} xlog(p) + (1-x)log(1-p)   $$\n",
    "\n",
    "$$ \\frac{\\delta l(x|p)}{\\delta p} = \n",
    "    \\sum^{n} \\frac{ \\delta  xlog(p) + (1-x)log(1-p) }{\\delta p}   = \n",
    "    \\sum^{n} \\frac{x}{p} - \\frac{1-x}{1-p}\n",
    "$$\n",
    "\n",
    "$$\n",
    "  \\sum^{n} \\frac{x-xp - p + px}{p} = \\sum^{n} \\frac{x - p}{p} = 0\n",
    "$$\n",
    "\n",
    "$$ \n",
    "    \\sum^{n}x = np\n",
    "$$\n",
    "\n",
    "$$\n",
    "    \\hat{p} = \\frac{\\sum^{n}x}{n}\n",
    " $$"
   ]
  },
  {
   "cell_type": "markdown",
   "metadata": {},
   "source": [
    "So this is super straightforward! We just sum up the proportion of successes and divide by the number of trials."
   ]
  },
  {
   "cell_type": "code",
   "execution_count": 21,
   "metadata": {
    "collapsed": false
   },
   "outputs": [
    {
     "name": "stdout",
     "output_type": "stream",
     "text": [
      "0.509\n"
     ]
    }
   ],
   "source": [
    "p_heads=0.5\n",
    "n = 1000\n",
    "trials_fair = flip_bias_coin(n, p_heads=p_heads)\n",
    "p_hat_fair = sum(trials_fair) / float(n)\n",
    "print p_hat_fair"
   ]
  },
  {
   "cell_type": "code",
   "execution_count": 22,
   "metadata": {
    "collapsed": false
   },
   "outputs": [
    {
     "name": "stdout",
     "output_type": "stream",
     "text": [
      "0.61\n"
     ]
    }
   ],
   "source": [
    "p_heads=0.6\n",
    "n = 1000\n",
    "trials_bias = flip_bias_coin(n, p_heads=p_heads)\n",
    "p_hat_bias = sum(trials_bias) / float(n)\n",
    "print p_hat_bias"
   ]
  },
  {
   "cell_type": "markdown",
   "metadata": {
    "collapsed": true
   },
   "source": [
    "We can demonstrate the probability computed by our estimates of $p$. \n",
    "\n",
    "\n",
    "$$  P(X|\\hat{p}) = \\prod^{n} \\hat{p}^x(1-\\hat{p})^{1-x} $$"
   ]
  },
  {
   "cell_type": "code",
   "execution_count": 12,
   "metadata": {
    "collapsed": true
   },
   "outputs": [],
   "source": [
    "def prob_x_p(trials, p):\n",
    "    return np.prod(np.power(p, trials)*np.power(1-p, 1-trials))"
   ]
  },
  {
   "cell_type": "code",
   "execution_count": 19,
   "metadata": {
    "collapsed": false
   },
   "outputs": [
    {
     "data": {
      "text/plain": [
       "<matplotlib.text.Text at 0x112f6a410>"
      ]
     },
     "execution_count": 19,
     "metadata": {},
     "output_type": "execute_result"
    },
    {
     "data": {
      "image/png": "[encoded data removed]",
      "text/plain": [
       "<matplotlib.figure.Figure at 0x1131dcad0>"
      ]
     },
     "metadata": {},
     "output_type": "display_data"
    }
   ],
   "source": [
    "probs = []\n",
    "x = np.arange(0,1, 0.01)\n",
    "for i in x:\n",
    "    probs.append(prob_x_p(trials_fair, i))\n",
    "plt.plot(x,probs)\n",
    "plt.xlabel('$\\hat{p}$')\n",
    "plt.ylabel(\"$P(X|\\hat{p})$ for $X=$ observed data\")"
   ]
  },
  {
   "cell_type": "markdown",
   "metadata": {},
   "source": [
    "We can also see the standard error of our estimate. We know that the Bernoulli Model has a mean of $p$ and a variance of $p(1-p)=pq$. Recall that the standard error of a sample statistic is scaled by the number of samples.\n",
    "\n",
    "$$ SE_{stat} = \\frac{S_{stat}}{n} $$\n",
    "\n",
    "Where $S_{stat}$ is the true statistic sample variance and $n$ is the number of samples. \n",
    "\n",
    "If $\\hat{p}$ is the distribution mean, then the distribution's standard deviation is $\\sqrt{\\hat{p}(1-\\hat{p})}$\n",
    "\n",
    "The standard deviation of the statistic estimate is then computed to be \n",
    "\n",
    "$$ SE_{stat} = \\frac{\\sqrt{\\hat{p}(1-\\hat{p})}}{\\sqrt{n}} $$\n",
    "\n",
    "As a result, the confidence interval is simply\n",
    "\n",
    "$$ \\hat{p} \\pm  z*\\frac{\\sqrt{\\hat{p}(1-\\hat{p})}}{\\sqrt{n}}$$"
   ]
  },
  {
   "cell_type": "markdown",
   "metadata": {},
   "source": [
    "We can therefore compute the confidence interval given our simulation."
   ]
  },
  {
   "cell_type": "code",
   "execution_count": 37,
   "metadata": {
    "collapsed": false
   },
   "outputs": [],
   "source": [
    "import scipy\n",
    "def compute_conf_interval(p_hat,n, conf= 0.05):\n",
    "\n",
    "    z = scipy.stats.norm.ppf((1-conf))\n",
    "    upper =  p_hat + z*np.sqrt(p_hat*(1-p_hat) / n)\n",
    "    lower =  p_hat - z*np.sqrt(p_hat*(1-p_hat) / n)\n",
    "    return (lower, p_hat, upper)"
   ]
  },
  {
   "cell_type": "code",
   "execution_count": 38,
   "metadata": {
    "collapsed": false
   },
   "outputs": [
    {
     "data": {
      "text/plain": [
       "(0.58462976571394543, 0.60999999999999999, 0.63537023428605455)"
      ]
     },
     "execution_count": 38,
     "metadata": {},
     "output_type": "execute_result"
    }
   ],
   "source": [
    "compute_conf_interval(p_hat_bias, n,)"
   ]
  },
  {
   "cell_type": "code",
   "execution_count": 39,
   "metadata": {
    "collapsed": false
   },
   "outputs": [
    {
     "data": {
      "text/plain": [
       "(0.4829967941494886, 0.50900000000000001, 0.53500320585051142)"
      ]
     },
     "execution_count": 39,
     "metadata": {},
     "output_type": "execute_result"
    }
   ],
   "source": [
    "compute_conf_interval(p_hat_fair, n,)"
   ]
  },
  {
   "cell_type": "markdown",
   "metadata": {},
   "source": [
    "Clearly, more data provides better confidence (tighter intervals). Here is an example when $n$ is so small, the confidence is not very tight"
   ]
  },
  {
   "cell_type": "code",
   "execution_count": 46,
   "metadata": {
    "collapsed": false
   },
   "outputs": [
    {
     "data": {
      "text/plain": [
       "(0.2399258060622213, 0.5, 0.76007419393777864)"
      ]
     },
     "execution_count": 46,
     "metadata": {},
     "output_type": "execute_result"
    }
   ],
   "source": [
    "p_heads=0.4\n",
    "n = 10\n",
    "trials_test = flip_bias_coin(n, p_heads=p_heads)\n",
    "p_hat_test = sum(trials_test) / float(n)\n",
    "\n",
    "compute_conf_interval(p_hat_test,n)"
   ]
  },
  {
   "cell_type": "markdown",
   "metadata": {},
   "source": [
    "Above, we can see that we can't even clearly determine significant difference than a fair coin."
   ]
  },
  {
   "cell_type": "code",
   "execution_count": null,
   "metadata": {
    "collapsed": true
   },
   "outputs": [],
   "source": []
  }
 ],
 "metadata": {
  "kernelspec": {
   "display_name": "Python 2",
   "language": "python",
   "name": "python2"
  },
  "language_info": {
   "codemirror_mode": {
    "name": "ipython",
    "version": 2
   },
   "file_extension": ".py",
   "mimetype": "text/x-python",
   "name": "python",
   "nbconvert_exporter": "python",
   "pygments_lexer": "ipython2",
   "version": "2.7.11"
  }
 },
 "nbformat": 4,
 "nbformat_minor": 1
}
