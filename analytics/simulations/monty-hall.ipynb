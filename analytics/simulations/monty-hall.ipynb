{
 "cells": [
  {
   "cell_type": "markdown",
   "metadata": {},
   "source": [
    "The classic Monty Hall problem. Given three doors, one of the doors has a prize. The player will select door 0 first. The host then shows either door 1 or 2 - the one without the prize - to reveal it is empty. The player can then choose if they wish to change their choice to the other door or stay with their current choice. What strategy provides the greatest likelihood of winning?"
   ]
  },
  {
   "cell_type": "markdown",
   "metadata": {},
   "source": [
    "# Solution"
   ]
  },
  {
   "cell_type": "markdown",
   "metadata": {},
   "source": [
    "To determine the optimal strategy, compute the probability of winning by sticking the chosen door. "
   ]
  },
  {
   "cell_type": "markdown",
   "metadata": {},
   "source": [
    "$$ A = (The \\ prize \\ is \\ behind \\ door \\ 0) $$\n",
    "$$ B = (The \\ host \\ revealed \\ losing \\ option \\ behind \\ door \\ 1) $$"
   ]
  },
  {
   "cell_type": "markdown",
   "metadata": {},
   "source": [
    " $$P(A, B) = \\frac{1}{3}*  \\frac{1}{2} $$"
   ]
  },
  {
   "cell_type": "markdown",
   "metadata": {},
   "source": [
    "$$ P(B) = P(0 \\ has \\ prize) + P(1 \\ has \\ prize) + P(2 \\ has \\ prize) = \n",
    "    \\frac{1}{3} * \\frac{1}{2} + \\frac{1}{3} * 0 + \\frac{1}{3} * \\frac{1}{1} = \\frac{1}{2} $$ "
   ]
  },
  {
   "cell_type": "markdown",
   "metadata": {},
   "source": [
    "$$ P(A|B) = \\frac{P(A,B)}{P(B)} = \\frac{1/6}{1/2} = \\frac{1}{3} $$\n",
    "\n",
    "Therefore, the optimal strategy is to always switch options as the likelihood of winning is $\\frac{2}{3}$"
   ]
  },
  {
   "cell_type": "markdown",
   "metadata": {},
   "source": [
    "# Simulation"
   ]
  },
  {
   "cell_type": "code",
   "execution_count": 1,
   "metadata": {
    "collapsed": true
   },
   "outputs": [],
   "source": [
    "import pandas as pd\n",
    "import numpy as np\n",
    "import scipy"
   ]
  },
  {
   "cell_type": "code",
   "execution_count": 61,
   "metadata": {
    "collapsed": false
   },
   "outputs": [
    {
     "name": "stderr",
     "output_type": "stream",
     "text": [
      "/usr/local/lib/python2.7/site-packages/ipykernel/__main__.py:2: DeprecationWarning: using a non-integer number instead of an integer will result in an error in the future\n",
      "  from ipykernel import kernelapp as app\n"
     ]
    }
   ],
   "source": [
    "N = 1000.\n",
    "doors = scipy.random.random_integers(0,2,N)\n"
   ]
  },
  {
   "cell_type": "code",
   "execution_count": 62,
   "metadata": {
    "collapsed": false
   },
   "outputs": [],
   "source": [
    "sols = []\n",
    "for i in doors:\n",
    "    # assume that if prize is not in 0, then switch choice to the winner\n",
    "    if i in [1,2]:\n",
    "        sols.append(True)\n",
    "    # prize is in door 0, so switch to a losing choice\n",
    "    else:\n",
    "        sols.append(False)"
   ]
  },
  {
   "cell_type": "code",
   "execution_count": 63,
   "metadata": {
    "collapsed": false
   },
   "outputs": [
    {
     "name": "stdout",
     "output_type": "stream",
     "text": [
      "Likelihood of winning when always changing option 0.682\n"
     ]
    }
   ],
   "source": [
    "print 'Likelihood of winning when always changing option', sum(sols)  / N"
   ]
  }
 ],
 "metadata": {
  "kernelspec": {
   "display_name": "Python 2",
   "language": "python",
   "name": "python2"
  },
  "language_info": {
   "codemirror_mode": {
    "name": "ipython",
    "version": 2
   },
   "file_extension": ".py",
   "mimetype": "text/x-python",
   "name": "python",
   "nbconvert_exporter": "python",
   "pygments_lexer": "ipython2",
   "version": "2.7.11"
  }
 },
 "nbformat": 4,
 "nbformat_minor": 0
}
