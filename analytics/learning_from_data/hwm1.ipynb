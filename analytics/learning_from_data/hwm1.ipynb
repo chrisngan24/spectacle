{
 "cells": [
  {
   "cell_type": "code",
   "execution_count": 3,
   "metadata": {
    "collapsed": true
   },
   "outputs": [],
   "source": [
    "import numpy as np\n",
    "\n",
    "import matplotlib.pyplot as plt\n",
    "%matplotlib inline"
   ]
  },
  {
   "cell_type": "code",
   "execution_count": 4,
   "metadata": {
    "collapsed": true
   },
   "outputs": [],
   "source": [
    "def classify_x(x, w):\n",
    "    return np.sign(np.dot(w,x.T))\n",
    "    "
   ]
  },
  {
   "cell_type": "code",
   "execution_count": 11,
   "metadata": {
    "collapsed": false
   },
   "outputs": [],
   "source": [
    "def run_experiment(n = 10, d=2, min_x=-1, max_x=1):\n",
    "\n",
    "\n",
    "    def train_pla(x,y):\n",
    "        i=0\n",
    "        x_index = np.arange(0,n,1)\n",
    "        w_i = np.zeros([1, d])\n",
    "\n",
    "        error_count = 1\n",
    "        while error_count > 0:\n",
    "            y_hat_i = classify_x(x, w_i)\n",
    "            error_index = x_index[(y_hat_i != y)[0]]\n",
    "            error_count = len(error_index)\n",
    "            if error_count > 0:\n",
    "\n",
    "                # sample a point from the misclassified points\n",
    "                # and update the weight (ie. gradient descent)\n",
    "                update_i = np.random.choice(error_index)\n",
    "                w_i = w_i + y[:,update_i]* x[update_i,:]\n",
    "                i += 1\n",
    "\n",
    "        return w_i, i\n",
    "    iterations = []\n",
    "    prob_of_error = []\n",
    "    for i in xrange(0,10000):\n",
    "        x = np.column_stack([\n",
    "            np.random.uniform(low=min_x, high=max_x, size=(n,d))\n",
    "            ])\n",
    "        true_w = np.random.uniform(low=min_x, high=max_x, size=(1,d))\n",
    "        y = classify_x(x, true_w)\n",
    "        w_i, j = train_pla(x,y)\n",
    "        iterations.append(j)\n",
    "        n_test = n*5\n",
    "        x_test = np.column_stack([\n",
    "            np.random.uniform(low=min_x, high=max_x, size=(n_test,d))\n",
    "            ])\n",
    "        y_test = classify_x(x_test, true_w)\n",
    "        y_pred = classify_x(x_test, w_i)\n",
    "        errs = sum(y_test != y_pred)\n",
    "        prob_of_error.append(errs/float(n_test))\n",
    "    return iterations, prob_of_error"
   ]
  },
  {
   "cell_type": "code",
   "execution_count": 14,
   "metadata": {
    "collapsed": false
   },
   "outputs": [
    {
     "name": "stdout",
     "output_type": "stream",
     "text": [
      "4.6687\n"
     ]
    },
    {
     "data": {
      "text/plain": [
       "(array([  9.91200000e+03,   6.50000000e+01,   1.30000000e+01,\n",
       "          4.00000000e+00,   1.00000000e+00,   2.00000000e+00,\n",
       "          1.00000000e+00,   0.00000000e+00,   0.00000000e+00,\n",
       "          2.00000000e+00]),\n",
       " array([   1. ,   34.4,   67.8,  101.2,  134.6,  168. ,  201.4,  234.8,\n",
       "         268.2,  301.6,  335. ]),\n",
       " <a list of 10 Patch objects>)"
      ]
     },
     "execution_count": 14,
     "metadata": {},
     "output_type": "execute_result"
    },
    {
     "data": {
      "image/png": "[encoded data removed]",
      "text/plain": [
       "<matplotlib.figure.Figure at 0x112ce2510>"
      ]
     },
     "metadata": {},
     "output_type": "display_data"
    }
   ],
   "source": [
    "iters, errs = run_experiment(n=10)\n",
    "print np.mean(iters)\n",
    "# avg number of iterations to reach convergence\n",
    "plt.hist(iters)"
   ]
  },
  {
   "cell_type": "code",
   "execution_count": 15,
   "metadata": {
    "collapsed": false
   },
   "outputs": [
    {
     "data": {
      "text/plain": [
       "0.0011631200000000006"
      ]
     },
     "execution_count": 15,
     "metadata": {},
     "output_type": "execute_result"
    }
   ],
   "source": [
    "np.mean(errs)"
   ]
  }
 ],
 "metadata": {
  "kernelspec": {
   "display_name": "Python 2",
   "language": "python",
   "name": "python2"
  },
  "language_info": {
   "codemirror_mode": {
    "name": "ipython",
    "version": 2
   },
   "file_extension": ".py",
   "mimetype": "text/x-python",
   "name": "python",
   "nbconvert_exporter": "python",
   "pygments_lexer": "ipython2",
   "version": "2.7.12"
  }
 },
 "nbformat": 4,
 "nbformat_minor": 1
}
