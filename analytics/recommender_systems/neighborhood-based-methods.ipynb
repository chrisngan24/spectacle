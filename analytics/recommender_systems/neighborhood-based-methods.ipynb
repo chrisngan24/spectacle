{
 "cells": [
  {
   "cell_type": "markdown",
   "metadata": {},
   "source": [
    "\n",
    "The basic form of a recommender system uses _memory based algorithms_. This uses the past interactions users have with possible items in the market place. These types of algorithms utilize that similar users have similar rating behavior.\n",
    "\n",
    "1. _User-based collaborative filtering_: for target user A, we use the weighted average of similar users for each item\n",
    "2. _Item-based collaborative filtering_: for any item B, determine set S, which are items similar to B. Then for target user A, find set S to rate for B.\n",
    "\n",
    "Ratings can be both _explicit_ and/or _implicit_. Some examples of explicit ratings include:\n",
    "- continuous ratings, interval based ratings, ordinal rating (all numerical scale - ie. 1 to 5, very bad to very good, etc)\n",
    "- binary rating (1 or 0, like or dislike)\n",
    "- unary rating (like or no action) - can't really penalize for a no action"
   ]
  },
  {
   "cell_type": "markdown",
   "metadata": {},
   "source": [
    "To better understand some concepts, lets load in a toy data set. \n",
    "\n",
    "Please refer to the code from [this blessed blog post](http://www.gregreda.com/2013/10/26/using-pandas-on-the-movielens-dataset/)"
   ]
  },
  {
   "cell_type": "code",
   "execution_count": 7,
   "metadata": {
    "collapsed": true
   },
   "outputs": [],
   "source": [
    "import pandas as pd\n",
    "import matplotlib.pyplot as plt\n",
    "import seaborn as sns\n",
    "import numpy as np\n",
    "%matplotlib inline"
   ]
  },
  {
   "cell_type": "code",
   "execution_count": 8,
   "metadata": {
    "collapsed": false
   },
   "outputs": [],
   "source": [
    "\n",
    "# pass in column names for each CSV\n",
    "u_cols = ['user_id', 'age', 'sex', 'occupation', 'zip_code']\n",
    "users = pd.read_csv('ml-100k/u.user', sep='|', names=u_cols,\n",
    "                    encoding='latin-1')\n",
    "\n",
    "r_cols = ['user_id', 'movie_id', 'rating', 'unix_timestamp']\n",
    "ratings = pd.read_csv('ml-100k/u.data', sep='\\t', names=r_cols,\n",
    "                      encoding='latin-1')\n",
    "\n",
    "# the movies file contains columns indicating the movie's genres\n",
    "# let's only load the first five columns of the file with usecols\n",
    "m_cols = ['movie_id', 'title', 'release_date', 'video_release_date', 'imdb_url']\n",
    "movies = pd.read_csv('ml-100k/u.item', sep='|', names=m_cols, usecols=range(5),\n",
    "                     encoding='latin-1')\n",
    "\n",
    "# create one merged DataFrame\n",
    "movie_ratings = pd.merge(movies, ratings)\n",
    "lens = pd.merge(movie_ratings, users)"
   ]
  },
  {
   "cell_type": "code",
   "execution_count": 10,
   "metadata": {
    "collapsed": false
   },
   "outputs": [
    {
     "data": {
      "text/html": [
       "<div>\n",
       "<table border=\"1\" class=\"dataframe\">\n",
       "  <thead>\n",
       "    <tr style=\"text-align: right;\">\n",
       "      <th></th>\n",
       "      <th>movie_id</th>\n",
       "      <th>title</th>\n",
       "      <th>release_date</th>\n",
       "      <th>video_release_date</th>\n",
       "      <th>imdb_url</th>\n",
       "      <th>user_id</th>\n",
       "      <th>rating</th>\n",
       "      <th>unix_timestamp</th>\n",
       "      <th>age</th>\n",
       "      <th>sex</th>\n",
       "      <th>occupation</th>\n",
       "      <th>zip_code</th>\n",
       "    </tr>\n",
       "  </thead>\n",
       "  <tbody>\n",
       "    <tr>\n",
       "      <th>74149</th>\n",
       "      <td>744</td>\n",
       "      <td>Michael Collins (1996)</td>\n",
       "      <td>11-Oct-1996</td>\n",
       "      <td>NaN</td>\n",
       "      <td>http://us.imdb.com/M/title-exact?Michael%20Col...</td>\n",
       "      <td>666</td>\n",
       "      <td>3</td>\n",
       "      <td>880313661</td>\n",
       "      <td>44</td>\n",
       "      <td>M</td>\n",
       "      <td>administrator</td>\n",
       "      <td>61820</td>\n",
       "    </tr>\n",
       "    <tr>\n",
       "      <th>56551</th>\n",
       "      <td>89</td>\n",
       "      <td>Blade Runner (1982)</td>\n",
       "      <td>01-Jan-1982</td>\n",
       "      <td>NaN</td>\n",
       "      <td>http://us.imdb.com/M/title-exact?Blade%20Runne...</td>\n",
       "      <td>201</td>\n",
       "      <td>3</td>\n",
       "      <td>884112245</td>\n",
       "      <td>27</td>\n",
       "      <td>M</td>\n",
       "      <td>writer</td>\n",
       "      <td>E2A4H</td>\n",
       "    </tr>\n",
       "    <tr>\n",
       "      <th>49478</th>\n",
       "      <td>479</td>\n",
       "      <td>Vertigo (1958)</td>\n",
       "      <td>01-Jan-1958</td>\n",
       "      <td>NaN</td>\n",
       "      <td>http://us.imdb.com/M/title-exact?Vertigo%20(1958)</td>\n",
       "      <td>929</td>\n",
       "      <td>4</td>\n",
       "      <td>879640329</td>\n",
       "      <td>44</td>\n",
       "      <td>M</td>\n",
       "      <td>scientist</td>\n",
       "      <td>53711</td>\n",
       "    </tr>\n",
       "    <tr>\n",
       "      <th>68527</th>\n",
       "      <td>403</td>\n",
       "      <td>Batman (1989)</td>\n",
       "      <td>01-Jan-1989</td>\n",
       "      <td>NaN</td>\n",
       "      <td>http://us.imdb.com/M/title-exact?Batman%20(1989)</td>\n",
       "      <td>551</td>\n",
       "      <td>3</td>\n",
       "      <td>892782807</td>\n",
       "      <td>25</td>\n",
       "      <td>M</td>\n",
       "      <td>programmer</td>\n",
       "      <td>55414</td>\n",
       "    </tr>\n",
       "  </tbody>\n",
       "</table>\n",
       "</div>"
      ],
      "text/plain": [
       "       movie_id                   title release_date  video_release_date  \\\n",
       "74149       744  Michael Collins (1996)  11-Oct-1996                 NaN   \n",
       "56551        89     Blade Runner (1982)  01-Jan-1982                 NaN   \n",
       "49478       479          Vertigo (1958)  01-Jan-1958                 NaN   \n",
       "68527       403           Batman (1989)  01-Jan-1989                 NaN   \n",
       "\n",
       "                                                imdb_url  user_id  rating  \\\n",
       "74149  http://us.imdb.com/M/title-exact?Michael%20Col...      666       3   \n",
       "56551  http://us.imdb.com/M/title-exact?Blade%20Runne...      201       3   \n",
       "49478  http://us.imdb.com/M/title-exact?Vertigo%20(1958)      929       4   \n",
       "68527   http://us.imdb.com/M/title-exact?Batman%20(1989)      551       3   \n",
       "\n",
       "       unix_timestamp  age sex     occupation zip_code  \n",
       "74149       880313661   44   M  administrator    61820  \n",
       "56551       884112245   27   M         writer    E2A4H  \n",
       "49478       879640329   44   M      scientist    53711  \n",
       "68527       892782807   25   M     programmer    55414  "
      ]
     },
     "execution_count": 10,
     "metadata": {},
     "output_type": "execute_result"
    }
   ],
   "source": [
    "lens.sample(4)"
   ]
  },
  {
   "cell_type": "markdown",
   "metadata": {},
   "source": [
    "One common property of many recommender systems is the _long tail_ property. This property shows that only a small number of items are frequently rated. As a result, there is a highly skewed distribution. Consider:\n",
    "- This biases a recommender system to just recommend _popular_ items. This leads to repeated recommendations\n",
    "- This implies that highly rated items are usually fewer in number\n",
    "\n",
    "This can be observed below."
   ]
  },
  {
   "cell_type": "code",
   "execution_count": 11,
   "metadata": {
    "collapsed": false
   },
   "outputs": [
    {
     "data": {
      "text/plain": [
       "<matplotlib.text.Text at 0x102ee38d0>"
      ]
     },
     "execution_count": 11,
     "metadata": {},
     "output_type": "execute_result"
    },
    {
     "data": {
      "image/png": "[encoded data removed]",
      "text/plain": [
       "<matplotlib.figure.Figure at 0x10bc40d90>"
      ]
     },
     "metadata": {},
     "output_type": "display_data"
    }
   ],
   "source": [
    "ratings = []\n",
    "for g, df_g in df_lens.groupby(['movie_id', 'title']):\n",
    "    ratings.append(dict(\n",
    "        number_of_ratings=len(df_g),\n",
    "        movie_id = g[0],\n",
    "        title=g[1]\n",
    "        ))\n",
    "df_ratings = pd.DataFrame(ratings)\n",
    "plt.hist(df_ratings['number_of_ratings'], bins=100)\n",
    "plt.title('Frequency of Ratings per Movie')\n",
    "plt.xlabel(\"Number of Ratings per Movie\")\n",
    "plt.ylabel(\"Number of Movies\")"
   ]
  },
  {
   "cell_type": "code",
   "execution_count": 12,
   "metadata": {
    "collapsed": false
   },
   "outputs": [
    {
     "data": {
      "text/plain": [
       "<matplotlib.text.Text at 0x10b4c3ad0>"
      ]
     },
     "execution_count": 12,
     "metadata": {},
     "output_type": "execute_result"
    },
    {
     "data": {
      "image/png": "[encoded data removed]",
      "text/plain": [
       "<matplotlib.figure.Figure at 0x109e85b50>"
      ]
     },
     "metadata": {},
     "output_type": "display_data"
    }
   ],
   "source": [
    "ratings = []\n",
    "for g, df_g in df_lens.groupby(['user_id']):\n",
    "    ratings.append(dict(\n",
    "        number_of_ratings=len(df_g),\n",
    "        use_id = g\n",
    "        ))\n",
    "df_ratings = pd.DataFrame(ratings)\n",
    "plt.hist(df_ratings['number_of_ratings'], bins=100)\n",
    "plt.title('Frequency of Ratings per User')\n",
    "plt.xlabel(\"Number of Ratings per User\")\n",
    "plt.ylabel(\"Number of Users\")"
   ]
  },
  {
   "cell_type": "markdown",
   "metadata": {},
   "source": [
    "# User-Item Recommender"
   ]
  },
  {
   "cell_type": "markdown",
   "metadata": {},
   "source": [
    "The most simple method, is to figure out what user is most similar by conceptualizing the problem as nearest neighbour. For a given user, what user is most similar? If we assume $I_u$ is the set of items rated by user $u$, and $I_v$ is the set of user v, we can use the item ratings per user as the feature vector.\n",
    "\n",
    "For two users, the similarity can be computed $Sim(u,v)$. For each item, $j$, we can then predict the ranking for that item from the given user."
   ]
  },
  {
   "cell_type": "code",
   "execution_count": 13,
   "metadata": {
    "collapsed": true
   },
   "outputs": [],
   "source": [
    "n_users = lens['user_id'].max()\n",
    "n_items = lens['movie_id'].max()\n"
   ]
  },
  {
   "cell_type": "markdown",
   "metadata": {},
   "source": [
    "For our purposes, lets use cross validation to split the data into two groups."
   ]
  },
  {
   "cell_type": "code",
   "execution_count": 14,
   "metadata": {
    "collapsed": false
   },
   "outputs": [],
   "source": [
    "from sklearn import cross_validation as cv\n",
    "df_train, df_test = cv.train_test_split(lens, test_size=0.2)"
   ]
  },
  {
   "cell_type": "markdown",
   "metadata": {},
   "source": [
    "Now lets generate the user-item matrix which is an $m \\ x\\ n$ matrix, where $m$ is the number of users and $n$ is the number of movies being rated."
   ]
  },
  {
   "cell_type": "code",
   "execution_count": 15,
   "metadata": {
    "collapsed": false
   },
   "outputs": [
    {
     "name": "stdout",
     "output_type": "stream",
     "text": [
      "(943, 1682)\n"
     ]
    }
   ],
   "source": [
    "def generate_train_matrix(df):\n",
    "    train_matrix = np.zeros((n_users, n_items))\n",
    "    for i in df.itertuples():\n",
    "        # assume that row id is always an integer from 1 to n\n",
    "        row_i = i.user_id - 1\n",
    "        # same for column id\n",
    "        col_i = i.movie_id - 1\n",
    "        train_matrix[row_i, col_i] = i.rating\n",
    "    return train_matrix\n",
    "train_matrix = generate_train_matrix(df_train)\n",
    "print train_matrix.shape"
   ]
  },
  {
   "cell_type": "markdown",
   "metadata": {},
   "source": [
    "So to determine which users are similar, compute the feature vector across 2 distinct rows. The feature function can be different options including _cosine similarity_ and _pearson's correlation_. "
   ]
  },
  {
   "cell_type": "markdown",
   "metadata": {},
   "source": [
    "For each item per user, the item rating can be predicted by using the mean rating of the most similar set of users. The most similar users is defined as $P_u(j)$, or the $k$-nearest neighbours. One problem to adjust for is bias that a user has in ratings. For example, one user may have a tendency to rate items higher while another user always rates items lower. To adjust for this, each rating of the user needs to be centered on the mean of their ratings. \n",
    "\n",
    "In other words, for item $j$ and user $u$, the mean-centered rating $s_{uj}$ is defined by subtracting the mean from the raw rating $r_{uj}$. \n",
    "\n",
    "$$ s_{uj} = r_{uj} - u_{u}  \\bigvee u \\ \\epsilon \\{1,...m\\} $$\n",
    "\n",
    "The mean rating per user, $u_u$, is computed below. (This represents the sum of ratings divided by the numbers of items with rating). $I_u=\\text{number of items with ratings}$\n",
    "\n",
    "$$ u_u = \\frac{\\sum_{k\\epsilon I_u} r_{uk}}{|I_u|} $$\n"
   ]
  },
  {
   "cell_type": "markdown",
   "metadata": {},
   "source": [
    "So now that the mean-centered rating is formulated, we can rearrange this to compute the true rating of an item per user. \n",
    "\n",
    "$$ r_{uj} = u_u + s_{uj} $$\n",
    "\n",
    "$u_u$ is easily computed, as we assume that we already have some ratings for a given user. On the other hand, we can estimate what $s_{uj}$ is per user. The estimate of $s_{uj}$, $\\hat{s_{uj}}$, can be determined by a weighted sum of all other users, where the weight represents how similar user $u$ is to user $v$. \n",
    "\n",
    "\n",
    "$$ \\hat{r_{uj}} = u_u + \\hat{s_{uj}} $$"
   ]
  },
  {
   "cell_type": "markdown",
   "metadata": {},
   "source": [
    "This weighted sum can be written as:\n",
    "\n",
    "$$ \n",
    "    \\hat{s_{uj}} = \\frac\n",
    "        {s_{u_1j}Sim(u,u_1)  + s_{u_2j}Sim(u,u_2)  + ... + s_{u_mj}Sim(u,u_m)}\n",
    "        {|Sim(u,u_1)|  + |Sim(u,u_2)|  + ... + |Sim(u,u_m)|}\n",
    "$$\n",
    "Where the numerator is the weights applied to each mean-centered rating for the item per user. The denominator represents the normalization needed to limit the scale applied by similarity weight of users.\n",
    "\n",
    "With many users, this computation can become expensive. One shortcut around an expensive computation time is to only compute the ratings for users who are most similar - aka, _k-Nearest Neighbours_."
   ]
  },
  {
   "cell_type": "code",
   "execution_count": 17,
   "metadata": {
    "collapsed": false
   },
   "outputs": [],
   "source": [
    "\n",
    "from sklearn.neighbors import NearestNeighbors\n",
    "k = n_users/10\n",
    "knn = NearestNeighbors(n_neighbors=k + 1)\n",
    "knn.fit(train_matrix)\n",
    "def mean_for_non_empty_cells(mat, axis=1):\n",
    "    return np.sum(mat, axis=axis) / np.sum(mat > 0, axis=axis)\n",
    "\n",
    "def estimate_weight(item_index, user_index, nn_index, nn_weights, rating_matrix):\n",
    "    user_mean_rating = mean_for_non_empty_cells(rating_matrix[user_index,:], axis=0)\n",
    "    # compute mean for non zero entries\n",
    "    nn_rating_matrix = rating_matrix[nn_index,:]\n",
    "    nn_mean_rating = mean_for_non_empty_cells(nn_rating_matrix, axis=1)\n",
    "    \n",
    "    nn_item_rating_vector = rating_matrix[nn_index, item_index]\n",
    "    num = np.sum((nn_item_rating_vector - nn_mean_rating).dot(nn_weights))\n",
    "    dem =  np.sum(np.abs(nn_weights))\n",
    "    return user_mean_rating + num / dem\n",
    "\n",
    "Y = np.zeros(len(df_test))\n",
    "i = 0\n",
    "for g, df_g in df_test.groupby('user_id'):\n",
    "    user_id = int(g)\n",
    "    user_index = user_id - 1\n",
    "    user_row = train_matrix[user_index,:]\n",
    "    user_row = np.reshape(user_row, (1, n_items))\n",
    "    \n",
    "    nn_weights, nn_index = knn.kneighbors(user_row)\n",
    "    if nn_weights[0,0] == 0: # first neighbour is itself\n",
    "        nn_index = nn_index[0, 1:k+1] # drop the first neighbour if it is itself\n",
    "        nn_weights = nn_weights[0,1:k+1]\n",
    "    else:\n",
    "        print 'new user'\n",
    "        nn_index = nn_index[0, 0:k] # drop the last neighbour if first is not itself\n",
    "        nn_weights = nn_weights[0,1:k]\n",
    "    for item_id in df_g['movie_id'].tolist(): \n",
    "        item_index = item_id - 1\n",
    "        Y[i] = estimate_weight(item_index, user_index, nn_index, nn_weights, train_matrix,)\n",
    "        i += 1\n"
   ]
  },
  {
   "cell_type": "code",
   "execution_count": 19,
   "metadata": {
    "collapsed": false
   },
   "outputs": [
    {
     "data": {
      "text/plain": [
       "3.290392364835844"
      ]
     },
     "execution_count": 19,
     "metadata": {},
     "output_type": "execute_result"
    }
   ],
   "source": [
    "from sklearn.metrics import mean_squared_error\n",
    "np.sqrt(mean_squared_error(df_test['rating'], Y))"
   ]
  },
  {
   "cell_type": "markdown",
   "metadata": {},
   "source": [
    "The results are actually quite terrible... as this is the most basic model, lets explore some other alternatives!"
   ]
  },
  {
   "cell_type": "markdown",
   "metadata": {},
   "source": [
    "## Variations in User-item Neighbourhood Methods\n",
    "\n",
    "- Variations in similarity function\n",
    "    - Can use `Pearson's Correlation Coefficient` instead\n",
    "    - Can apply a `Discounted Similarity`. This is also known as significance weighting. if the number of similar items is below threshold $\\beta$, then the similarity coefficient of the user pair is down weighted. \n",
    "- Variations in prediction function\n",
    "    - Can use a z score method. So vary the weight by multiplying by the standard deviation of user ratings. \n",
    "    - Current set up is a regression problem. Can be restructured to be more like a classification problem (dont' care about ranking of items)\n",
    "    \n",
    "- Impact of long tail\n",
    "    - Some items are highly rated. These items are generally noisy. Similar to stop words, the movie ratings have little to no value. We can filter thigs by weighing with the _Inverse Document Frequency_ (idf). This adds a weight $w_j$ for each item $j$. \n",
    "\n",
    "\n",
    "$$ w_j = log(\\frac{m}{m_j}), j=\\text{item}, m=\\text{Number of Users}, m_j = \\text{Number of Users rated j} $$\n",
    "\n",
    "\n",
    "$$ r_{j \\text{ weighted}} = r_j*w_j $$"
   ]
  },
  {
   "cell_type": "markdown",
   "metadata": {},
   "source": [
    "# Item - Item Recommender\n",
    "\n",
    "The other common approach is to use item pairings. Instead of finding similar users, the goal is to find similar items. So given the rating matrix, compute similarities between columns rather than rows!\n",
    "\n",
    "\n",
    "For item $i$, find users who rated item $i$ to be the set $U_i$. We then copmpute the similairty of items using the $adjustd$ cosine similarity between columns $i$ and $j$. \n",
    "\n",
    "$$ AdjustedCosine(i,j) = \\frac\n",
    "    {\\sum_{u \\epsilon U_i \\bigcap U_j} s_{ui}* s_{uj} }\n",
    "    {\\sqrt{\\sum_{u \\epsilon U_i \\bigcap U_j} s_{ui}^2} \\sqrt{\\sum_{u \\epsilon U_i \\bigcap U_j} s_{uj}^2}} \n",
    "$$\n",
    "\n",
    "This just computes the cosine similarity between column vectors. \n",
    "\n",
    "For a given item $j$, we find similar items $t$. We say that the set of column vectors $Q_t(u)$ is the column vector belonging to similar items $t$. To actually compute ratings for user $u$ and item $j$, we compute:\n",
    "\n",
    "$$ \\hat{r_{ui}} =  \\frac\n",
    "    {\\sum_{j\\epsilon Q_t(u)} AdjustedCosine(j,i) \\bullet r_{uj} }\n",
    "    {\\sum_{j\\epsilon Q_t(u)} |AdjustedCosine(j,i)|}\n",
    "$$\n",
    "\n",
    "The idea is that we heavily weigh similar items and use the rating given for item $j$ by user $u$ to predict the rating for item $i$. Its a weighted sum of the users ratings for similar items."
   ]
  },
  {
   "cell_type": "code",
   "execution_count": 22,
   "metadata": {
    "collapsed": false
   },
   "outputs": [],
   "source": [
    "\n",
    "from sklearn.neighbors import NearestNeighbors\n",
    "k = n_users/10\n",
    "# lets just use the cosine rating. We could improve this by\n",
    "# using the adjust cosine but lets not worry\n",
    "knn = NearestNeighbors(n_neighbors=k + 1)\n",
    "knn.fit(train_matrix.T)\n",
    "def mean_for_non_empty_cells(mat, axis=1):\n",
    "    return np.sum(mat, axis=axis) / np.sum(mat > 0, axis=axis)\n",
    "\n",
    "def estimate_weight_item_item(item_index, user_index, nn_item_index, nn_item_weights, rating_matrix):\n",
    "    # compute mean for non zero entries\n",
    "    nn_rating_matrix = rating_matrix[:,nn_item_index]\n",
    "\n",
    "    \n",
    "    nn_item_rating_vector = rating_matrix[user_index, nn_item_index]\n",
    "    num = np.sum((nn_item_rating_vector).dot(nn_weights))\n",
    "    dem =  np.sum(np.abs(nn_weights))\n",
    "    return num / dem\n",
    "\n",
    "Y = np.zeros(len(df_test))\n",
    "i = 0\n",
    "for g, df_g in df_test.groupby('movie_id'):\n",
    "    item_id = int(g)\n",
    "    item_index = item_id - 1\n",
    "    item_row = train_matrix[:,item_index]\n",
    "    item_row = np.reshape(item_row, (1, n_users))\n",
    "    \n",
    "    nn_weights, nn_index = knn.kneighbors(item_row)\n",
    "    if nn_weights[0,0] == 0: # first neighbour is itself\n",
    "        nn_index = nn_index[0, 1:k+1] # drop the first neighbour if it is itself\n",
    "        nn_weights = nn_weights[0,1:k+1]\n",
    "    else:\n",
    "        print 'new item'\n",
    "        nn_index = nn_index[0, 0:k] # drop the last neighbour if first is not itself\n",
    "        nn_weights = nn_weights[0,1:k]\n",
    "    for item_id in df_g['user_id'].tolist(): \n",
    "        user_index = user_id - 1\n",
    "        Y[i] = estimate_weight_item_item(item_index, user_index, nn_index, nn_weights, train_matrix,)\n",
    "        i += 1\n"
   ]
  },
  {
   "cell_type": "code",
   "execution_count": 23,
   "metadata": {
    "collapsed": false
   },
   "outputs": [
    {
     "data": {
      "text/plain": [
       "3.4844260382629972"
      ]
     },
     "execution_count": 23,
     "metadata": {},
     "output_type": "execute_result"
    }
   ],
   "source": [
    "from sklearn.metrics import mean_squared_error\n",
    "np.sqrt(mean_squared_error(df_test['rating'], Y))"
   ]
  }
 ],
 "metadata": {
  "kernelspec": {
   "display_name": "Python 2",
   "language": "python",
   "name": "python2"
  },
  "language_info": {
   "codemirror_mode": {
    "name": "ipython",
    "version": 2
   },
   "file_extension": ".py",
   "mimetype": "text/x-python",
   "name": "python",
   "nbconvert_exporter": "python",
   "pygments_lexer": "ipython2",
   "version": "2.7.11"
  }
 },
 "nbformat": 4,
 "nbformat_minor": 1
}
