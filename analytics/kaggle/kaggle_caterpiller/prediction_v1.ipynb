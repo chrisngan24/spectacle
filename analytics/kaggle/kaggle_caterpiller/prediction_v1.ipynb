{
 "cells": [
  {
   "cell_type": "code",
   "execution_count": 140,
   "metadata": {
    "collapsed": false
   },
   "outputs": [
    {
     "name": "stdout",
     "output_type": "stream",
     "text": [
      "The autoreload extension is already loaded. To reload it, use:\n",
      "  %reload_ext autoreload\n",
      "The rmagic extension is already loaded. To reload it, use:\n",
      "  %reload_ext rmagic\n"
     ]
    }
   ],
   "source": [
    "# Boilerplate at top of file\n",
    "%load_ext autoreload\n",
    "%load_ext rmagic\n",
    "%autoreload 2\n",
    "import warnings\n",
    "warnings.filterwarnings('ignore')\n",
    "import pandas as pd\n",
    "\n",
    "import numpy as np\n",
    "import datetime\n",
    "import math\n",
    "\n",
    "import matplotlib.pyplot as plt\n",
    "%matplotlib inline\n",
    "plt.style.use('ggplot')\n",
    "from ggplot import *\n",
    "\n",
    "#####\n",
    "# custom functions\n",
    "#####\n",
    "import etl\n",
    "from function import *\n",
    "\n",
    "#####\n",
    "# custom to script\n",
    "####\n",
    "from sklearn import linear_model"
   ]
  },
  {
   "cell_type": "code",
   "execution_count": 109,
   "metadata": {
    "collapsed": false
   },
   "outputs": [
    {
     "name": "stdout",
     "output_type": "stream",
     "text": [
      "(30213, 53)\n"
     ]
    }
   ],
   "source": [
    "df_set, df_raw_test = etl.etl('competition_data')\n",
    "print df_set.shape\n",
    "Y_KEY = 'cost'"
   ]
  },
  {
   "cell_type": "code",
   "execution_count": 119,
   "metadata": {
    "collapsed": false
   },
   "outputs": [
    {
     "data": {
      "text/html": [
       "<div style=\"max-height:1000px;max-width:1500px;overflow:auto;\">\n",
       "<table border=\"1\" class=\"dataframe\">\n",
       "  <thead>\n",
       "    <tr style=\"text-align: right;\">\n",
       "      <th></th>\n",
       "      <th>wall</th>\n",
       "      <th>length</th>\n",
       "      <th>diameter</th>\n",
       "      <th>component_count</th>\n",
       "      <th>bracket_pricing</th>\n",
       "      <th>supplier</th>\n",
       "    </tr>\n",
       "  </thead>\n",
       "  <tbody>\n",
       "    <tr>\n",
       "      <th>0</th>\n",
       "      <td>0.71</td>\n",
       "      <td>137</td>\n",
       "      <td>6.35</td>\n",
       "      <td>1</td>\n",
       "      <td>1</td>\n",
       "      <td>36</td>\n",
       "    </tr>\n",
       "    <tr>\n",
       "      <th>1</th>\n",
       "      <td>0.71</td>\n",
       "      <td>137</td>\n",
       "      <td>6.35</td>\n",
       "      <td>1</td>\n",
       "      <td>1</td>\n",
       "      <td>36</td>\n",
       "    </tr>\n",
       "    <tr>\n",
       "      <th>2</th>\n",
       "      <td>0.71</td>\n",
       "      <td>137</td>\n",
       "      <td>6.35</td>\n",
       "      <td>1</td>\n",
       "      <td>1</td>\n",
       "      <td>36</td>\n",
       "    </tr>\n",
       "    <tr>\n",
       "      <th>3</th>\n",
       "      <td>0.71</td>\n",
       "      <td>137</td>\n",
       "      <td>6.35</td>\n",
       "      <td>1</td>\n",
       "      <td>1</td>\n",
       "      <td>36</td>\n",
       "    </tr>\n",
       "    <tr>\n",
       "      <th>4</th>\n",
       "      <td>0.71</td>\n",
       "      <td>137</td>\n",
       "      <td>6.35</td>\n",
       "      <td>1</td>\n",
       "      <td>1</td>\n",
       "      <td>36</td>\n",
       "    </tr>\n",
       "  </tbody>\n",
       "</table>\n",
       "</div>"
      ],
      "text/plain": [
       "   wall  length  diameter  component_count  bracket_pricing  supplier\n",
       "0  0.71     137      6.35                1                1        36\n",
       "1  0.71     137      6.35                1                1        36\n",
       "2  0.71     137      6.35                1                1        36\n",
       "3  0.71     137      6.35                1                1        36\n",
       "4  0.71     137      6.35                1                1        36"
      ]
     },
     "execution_count": 119,
     "metadata": {},
     "output_type": "execute_result"
    }
   ],
   "source": [
    "from sklearn import preprocessing\n",
    "enc = preprocessing.LabelEncoder ()\n",
    " \n",
    "df_set['supplier'] = enc.fit_transform(df_set[['supplier']])\n",
    "df_set['bracket_pricing'] = enc.fit_transform(df_set[['bracket_pricing']])\n",
    "df_set[feature_keys].head()"
   ]
  },
  {
   "cell_type": "code",
   "execution_count": 94,
   "metadata": {
    "collapsed": false
   },
   "outputs": [
    {
     "data": {
      "text/plain": [
       "array(['tube_assembly_id', 'material_id', 'diameter', 'wall', 'length',\n",
       "       'num_bends', 'bend_radius', 'end_a_1x', 'end_a_2x', 'end_x_1x',\n",
       "       'end_x_2x', 'end_a', 'end_x', 'num_boss', 'num_bracket', 'other',\n",
       "       'spec1', 'spec2', 'spec3', 'spec4', 'spec5', 'spec6', 'spec7',\n",
       "       'spec8', 'spec9', 'spec10', 'component_id_1', 'quantity_1',\n",
       "       'component_id_2', 'quantity_2', 'component_id_3', 'quantity_3',\n",
       "       'component_id_4', 'quantity_4', 'component_id_5', 'quantity_5',\n",
       "       'component_id_6', 'quantity_6', 'component_id_7', 'quantity_7',\n",
       "       'component_id_8', 'quantity_8', 'end_a_forming', 'end_x_forming',\n",
       "       'supplier', 'quote_date', 'annual_usage', 'min_order_quantity',\n",
       "       'bracket_pricing', 'quantity', 'cost', 'component_count',\n",
       "       'spec_count'], dtype=object)"
      ]
     },
     "execution_count": 94,
     "metadata": {},
     "output_type": "execute_result"
    }
   ],
   "source": [
    "df_set.columns.values"
   ]
  },
  {
   "cell_type": "code",
   "execution_count": 141,
   "metadata": {
    "collapsed": false
   },
   "outputs": [
    {
     "data": {
      "text/html": [
       "<div style=\"max-height:1000px;max-width:1500px;overflow:auto;\">\n",
       "<table border=\"1\" class=\"dataframe\">\n",
       "  <thead>\n",
       "    <tr style=\"text-align: right;\">\n",
       "      <th></th>\n",
       "      <th>tube_assembly_id</th>\n",
       "      <th>material_id</th>\n",
       "      <th>diameter</th>\n",
       "      <th>wall</th>\n",
       "      <th>length</th>\n",
       "      <th>num_bends</th>\n",
       "      <th>bend_radius</th>\n",
       "      <th>end_a_1x</th>\n",
       "      <th>end_a_2x</th>\n",
       "      <th>end_x_1x</th>\n",
       "      <th>...</th>\n",
       "      <th>end_a_forming</th>\n",
       "      <th>end_x_forming</th>\n",
       "      <th>supplier</th>\n",
       "      <th>quote_date</th>\n",
       "      <th>annual_usage</th>\n",
       "      <th>min_order_quantity</th>\n",
       "      <th>bracket_pricing</th>\n",
       "      <th>quantity</th>\n",
       "      <th>component_count</th>\n",
       "      <th>spec_count</th>\n",
       "    </tr>\n",
       "  </thead>\n",
       "  <tbody>\n",
       "    <tr>\n",
       "      <th>5204</th>\n",
       "      <td>TA-02916</td>\n",
       "      <td>SP-0019</td>\n",
       "      <td>6.35</td>\n",
       "      <td>0.71</td>\n",
       "      <td>93</td>\n",
       "      <td>7</td>\n",
       "      <td>19.05</td>\n",
       "      <td>N</td>\n",
       "      <td>N</td>\n",
       "      <td>N</td>\n",
       "      <td>...</td>\n",
       "      <td>Yes</td>\n",
       "      <td>Yes</td>\n",
       "      <td>36</td>\n",
       "      <td>2013-07-07</td>\n",
       "      <td>0</td>\n",
       "      <td>0</td>\n",
       "      <td>1</td>\n",
       "      <td>50</td>\n",
       "      <td>1</td>\n",
       "      <td>0</td>\n",
       "    </tr>\n",
       "    <tr>\n",
       "      <th>11721</th>\n",
       "      <td>TA-06959</td>\n",
       "      <td>SP-0029</td>\n",
       "      <td>88.90</td>\n",
       "      <td>1.65</td>\n",
       "      <td>78</td>\n",
       "      <td>2</td>\n",
       "      <td>101.60</td>\n",
       "      <td>Y</td>\n",
       "      <td>Y</td>\n",
       "      <td>N</td>\n",
       "      <td>...</td>\n",
       "      <td>Yes</td>\n",
       "      <td>Yes</td>\n",
       "      <td>36</td>\n",
       "      <td>2011-08-01</td>\n",
       "      <td>660</td>\n",
       "      <td>40</td>\n",
       "      <td>0</td>\n",
       "      <td>40</td>\n",
       "      <td>2</td>\n",
       "      <td>2</td>\n",
       "    </tr>\n",
       "    <tr>\n",
       "      <th>12714</th>\n",
       "      <td>TA-07770</td>\n",
       "      <td>SP-0028</td>\n",
       "      <td>6.35</td>\n",
       "      <td>0.89</td>\n",
       "      <td>215</td>\n",
       "      <td>5</td>\n",
       "      <td>19.05</td>\n",
       "      <td>N</td>\n",
       "      <td>N</td>\n",
       "      <td>N</td>\n",
       "      <td>...</td>\n",
       "      <td>No</td>\n",
       "      <td>No</td>\n",
       "      <td>36</td>\n",
       "      <td>2013-07-28</td>\n",
       "      <td>0</td>\n",
       "      <td>0</td>\n",
       "      <td>1</td>\n",
       "      <td>1</td>\n",
       "      <td>2</td>\n",
       "      <td>0</td>\n",
       "    </tr>\n",
       "    <tr>\n",
       "      <th>10786</th>\n",
       "      <td>TA-06343</td>\n",
       "      <td>SP-0019</td>\n",
       "      <td>6.35</td>\n",
       "      <td>0.71</td>\n",
       "      <td>109</td>\n",
       "      <td>2</td>\n",
       "      <td>19.05</td>\n",
       "      <td>N</td>\n",
       "      <td>N</td>\n",
       "      <td>N</td>\n",
       "      <td>...</td>\n",
       "      <td>Yes</td>\n",
       "      <td>Yes</td>\n",
       "      <td>36</td>\n",
       "      <td>2013-06-30</td>\n",
       "      <td>0</td>\n",
       "      <td>0</td>\n",
       "      <td>1</td>\n",
       "      <td>25</td>\n",
       "      <td>1</td>\n",
       "      <td>0</td>\n",
       "    </tr>\n",
       "    <tr>\n",
       "      <th>1621</th>\n",
       "      <td>TA-00928</td>\n",
       "      <td>SP-0029</td>\n",
       "      <td>25.40</td>\n",
       "      <td>1.65</td>\n",
       "      <td>143</td>\n",
       "      <td>7</td>\n",
       "      <td>63.50</td>\n",
       "      <td>N</td>\n",
       "      <td>N</td>\n",
       "      <td>N</td>\n",
       "      <td>...</td>\n",
       "      <td>No</td>\n",
       "      <td>Yes</td>\n",
       "      <td>36</td>\n",
       "      <td>2013-10-01</td>\n",
       "      <td>0</td>\n",
       "      <td>0</td>\n",
       "      <td>1</td>\n",
       "      <td>5</td>\n",
       "      <td>1</td>\n",
       "      <td>0</td>\n",
       "    </tr>\n",
       "  </tbody>\n",
       "</table>\n",
       "<p>5 rows × 52 columns</p>\n",
       "</div>"
      ],
      "text/plain": [
       "      tube_assembly_id material_id  diameter  wall  length  num_bends  \\\n",
       "5204          TA-02916     SP-0019      6.35  0.71      93          7   \n",
       "11721         TA-06959     SP-0029     88.90  1.65      78          2   \n",
       "12714         TA-07770     SP-0028      6.35  0.89     215          5   \n",
       "10786         TA-06343     SP-0019      6.35  0.71     109          2   \n",
       "1621          TA-00928     SP-0029     25.40  1.65     143          7   \n",
       "\n",
       "       bend_radius end_a_1x end_a_2x end_x_1x    ...     end_a_forming  \\\n",
       "5204         19.05        N        N        N    ...               Yes   \n",
       "11721       101.60        Y        Y        N    ...               Yes   \n",
       "12714        19.05        N        N        N    ...                No   \n",
       "10786        19.05        N        N        N    ...               Yes   \n",
       "1621         63.50        N        N        N    ...                No   \n",
       "\n",
       "      end_x_forming supplier  quote_date  annual_usage  min_order_quantity  \\\n",
       "5204            Yes       36  2013-07-07             0                   0   \n",
       "11721           Yes       36  2011-08-01           660                  40   \n",
       "12714            No       36  2013-07-28             0                   0   \n",
       "10786           Yes       36  2013-06-30             0                   0   \n",
       "1621            Yes       36  2013-10-01             0                   0   \n",
       "\n",
       "      bracket_pricing quantity component_count spec_count  \n",
       "5204                1       50               1          0  \n",
       "11721               0       40               2          2  \n",
       "12714               1        1               2          0  \n",
       "10786               1       25               1          0  \n",
       "1621                1        5               1          0  \n",
       "\n",
       "[5 rows x 52 columns]"
      ]
     },
     "execution_count": 141,
     "metadata": {},
     "output_type": "execute_result"
    }
   ],
   "source": [
    "from sklearn import cross_validation\n",
    "# Split training and test\n",
    "df_train, df_test = cross_validation.train_test_split(df_set)\n",
    "df_train_x = df_train.drop(Y_KEY, 1)\n",
    "df_train_y = df_train[Y_KEY]\n",
    "# Testing\n",
    "df_test_x = df_test.drop(Y_KEY, 1)\n",
    "df_test_y = df_test[Y_KEY]\n",
    "df_train_x.head()"
   ]
  },
  {
   "cell_type": "code",
   "execution_count": 229,
   "metadata": {
    "collapsed": false
   },
   "outputs": [],
   "source": [
    "# Features to start with\n",
    "feature_keys = ['wall', 'length', 'diameter','component_count','bracket_pricing','bend_radius']"
   ]
  },
  {
   "cell_type": "markdown",
   "metadata": {},
   "source": [
    "# Some Basic Linear Model"
   ]
  },
  {
   "cell_type": "code",
   "execution_count": 207,
   "metadata": {
    "collapsed": false
   },
   "outputs": [
    {
     "name": "stdout",
     "output_type": "stream",
     "text": [
      "0.792263705758\n",
      "nan\n"
     ]
    }
   ],
   "source": [
    "\n",
    "df_train_bracketed = df_train[df_train['bracket_pricing'] == 1]\n",
    "df_train_non_bracketed = df_train[df_train['bracket_pricing'] == 0]\n",
    "df_test_bracketed = df_test[df_test['bracket_pricing'] == 1]\n",
    "df_test_non_bracketed = df_test[df_test['bracket_pricing'] == 0]\n",
    "\n",
    "# Bracketed Models\n",
    "lm1 = linear_model.LinearRegression()\n",
    "lm1.fit(df_train_bracketed[feature_keys], df_train_bracketed[Y_KEY])\n",
    "predict_y = lm1.predict(df_test_bracketed[feature_keys])\n",
    "predict_y = np.nan_to_num(predict_y)\n",
    "print metric(predict_y, df_test_bracketed[Y_KEY])\n",
    "\n",
    "\n",
    "# Non-Bracketed Models\n",
    "lm2 = linear_model.LinearRegression()\n",
    "lm2.fit(df_train_non_bracketed[feature_keys], df_train_non_bracketed[Y_KEY])\n",
    "predict_y = lm2.predict(df_test_non_bracketed[feature_keys])\n",
    "predict_y = np.nan_to_num(predict_y)\n",
    "print metric(predict_y, df_test_non_bracketed[Y_KEY])"
   ]
  },
  {
   "cell_type": "markdown",
   "metadata": {},
   "source": [
    "# Some Test Random Forest"
   ]
  },
  {
   "cell_type": "code",
   "execution_count": 253,
   "metadata": {
    "collapsed": false
   },
   "outputs": [
    {
     "name": "stdout",
     "output_type": "stream",
     "text": [
      "[ 0.19278216  0.10635309  0.07667484  0.03773181  0.03618463  0.01160728\n",
      "  0.00077728  0.00584697  0.06124778  0.17372029  0.03332809  0.00722956\n",
      "  0.16972255  0.05805029  0.02874337]\n",
      "0.803523602978\n",
      "0.300367370665\n"
     ]
    }
   ],
   "source": [
    "from sklearn import tree\n",
    "from sklearn import ensemble\n",
    "\n",
    "rforest = ensemble.RandomForestRegressor(bootstrap=True)\n",
    "df_train_x = df_train_x._get_numeric_data()\n",
    "df_train_x = df_train_x.dropna(axis=1)\n",
    "\n",
    "df_test_x = df_test_x._get_numeric_data()\n",
    "df_test_x = df_test_x.dropna(axis=1)\n",
    "\n",
    "\n",
    "rforest.fit(df_train_x, df_train_y)\n",
    "predict_y_forest = rforest.predict(df_test_x)\n",
    "\n",
    "print rforest.feature_importances_\n",
    "print metric(predict_y_tree, df_test_y)\n",
    "print metric(predict_y_forest, df_test_y)"
   ]
  },
  {
   "cell_type": "markdown",
   "metadata": {},
   "source": [
    "# R Analysis"
   ]
  },
  {
   "cell_type": "code",
   "execution_count": 152,
   "metadata": {
    "collapsed": false
   },
   "outputs": [
    {
     "data": {
      "text/plain": [
       "\n",
       "Call:\n",
       "lm(formula = cost ~ spec_count + component_count + spec_count + \n",
       "    quantity + bracket_pricing + wall + bend_radius, data = (df_set))\n",
       "\n",
       "Residuals:\n",
       "   Min     1Q Median     3Q    Max \n",
       "-79.95  -9.15  -3.28   3.21 945.79 \n",
       "\n",
       "Coefficients:\n",
       "                  Estimate Std. Error t value Pr(>|t|)    \n",
       "(Intercept)      2.6871201  0.6402694   4.197 2.71e-05 ***\n",
       "spec_count       0.9382378  0.0898960  10.437  < 2e-16 ***\n",
       "component_count -0.9638331  0.1843943  -5.227 1.73e-07 ***\n",
       "quantity        -0.0554834  0.0022436 -24.729  < 2e-16 ***\n",
       "bracket_pricing -2.3409049  0.4854475  -4.822 1.43e-06 ***\n",
       "wall            11.4830965  0.2561719  44.826  < 2e-16 ***\n",
       "bend_radius      0.0028783  0.0007842   3.671 0.000242 ***\n",
       "---\n",
       "Signif. codes:  0 ‘***’ 0.001 ‘**’ 0.01 ‘*’ 0.05 ‘.’ 0.1 ‘ ’ 1\n",
       "\n",
       "Residual standard error: 27.22 on 30206 degrees of freedom\n",
       "Multiple R-squared:  0.09821,\tAdjusted R-squared:  0.09803 \n",
       "F-statistic: 548.3 on 6 and 30206 DF,  p-value: < 2.2e-16\n",
       "\n"
      ]
     },
     "metadata": {},
     "output_type": "display_data"
    }
   ],
   "source": [
    "%%R -i df_set \n",
    "m1 <- lm(cost ~ lspec_count + component_count  \n",
    "         + spec_count+ quantity + bracket_pricing  \n",
    "         + wall + bend_radius, data = (df_set))\n",
    "summary(m1)\n",
    "# qqnorm(m1.rstand)\n",
    "# qqline(m1.rstand)"
   ]
  },
  {
   "cell_type": "markdown",
   "metadata": {},
   "source": [
    "# Model and Print submission"
   ]
  },
  {
   "cell_type": "code",
   "execution_count": 50,
   "metadata": {
    "collapsed": false
   },
   "outputs": [],
   "source": [
    "np_val = mtree.predict(df_raw_test[feature_keys])\n",
    "df_val = pd.DataFrame(data={'id': list(xrange(1,len(np_val)+1)), 'cost' : np_val})"
   ]
  },
  {
   "cell_type": "code",
   "execution_count": 51,
   "metadata": {
    "collapsed": false
   },
   "outputs": [],
   "source": [
    "df_val[['id', 'cost']].to_csv('submission.csv', index=False)"
   ]
  }
 ],
 "metadata": {
  "kernelspec": {
   "display_name": "Python 2",
   "language": "python",
   "name": "python2"
  },
  "language_info": {
   "codemirror_mode": {
    "name": "ipython",
    "version": 2
   },
   "file_extension": ".py",
   "mimetype": "text/x-python",
   "name": "python",
   "nbconvert_exporter": "python",
   "pygments_lexer": "ipython2",
   "version": "2.7.9"
  }
 },
 "nbformat": 4,
 "nbformat_minor": 0
}
