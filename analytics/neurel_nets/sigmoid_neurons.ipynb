{
 "cells": [
  {
   "cell_type": "markdown",
   "metadata": {},
   "source": [
    "# Lesson 1: the Sigmoid Neuron\n",
    "http://neuralnetworksanddeeplearning.com/chap1.html#sigmoid_neurons\n",
    "\n",
    "\n",
    "\n",
    "The neurel network is a learning algorithm that takes a set of inputs and outputs a decision. \n",
    "\n",
    "<img src=\"http://neuralnetworksanddeeplearning.com/images/tikz0.png\"></img>\n",
    "\n",
    "The challenge, is figuring out how the inputs form a decision! The easiest form is using a linear equation as the computed node. The function itself can be a variety of options. Lets first look at the most basic form: **the perceptron.**"
   ]
  },
  {
   "cell_type": "code",
   "execution_count": null,
   "metadata": {
    "collapsed": true
   },
   "outputs": [],
   "source": []
  }
 ],
 "metadata": {
  "kernelspec": {
   "display_name": "Python 2",
   "language": "python",
   "name": "python2"
  },
  "language_info": {
   "codemirror_mode": {
    "name": "ipython",
    "version": 2
   },
   "file_extension": ".py",
   "mimetype": "text/x-python",
   "name": "python",
   "nbconvert_exporter": "python",
   "pygments_lexer": "ipython2",
   "version": "2.7.12"
  }
 },
 "nbformat": 4,
 "nbformat_minor": 0
}
